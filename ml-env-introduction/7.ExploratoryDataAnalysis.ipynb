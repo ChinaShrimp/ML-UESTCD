{
 "cells": [
  {
   "cell_type": "markdown",
   "metadata": {},
   "source": [
    "# EDA (Exploratory Data Analysis)\n",
    "The process of:\n",
    "- Organizing \n",
    "- Plotting\n",
    "- Summarizing\n",
    "\n",
    "a dataset."
   ]
  },
  {
   "cell_type": "code",
   "execution_count": 22,
   "metadata": {},
   "outputs": [
    {
     "data": {
      "text/html": [
       "<div>\n",
       "<style scoped>\n",
       "    .dataframe tbody tr th:only-of-type {\n",
       "        vertical-align: middle;\n",
       "    }\n",
       "\n",
       "    .dataframe tbody tr th {\n",
       "        vertical-align: top;\n",
       "    }\n",
       "\n",
       "    .dataframe thead th {\n",
       "        text-align: right;\n",
       "    }\n",
       "</style>\n",
       "<table border=\"1\" class=\"dataframe\">\n",
       "  <thead>\n",
       "    <tr style=\"text-align: right;\">\n",
       "      <th></th>\n",
       "      <th>state</th>\n",
       "      <th>county</th>\n",
       "      <th>total_votes</th>\n",
       "      <th>dem_votes</th>\n",
       "      <th>rep_votes</th>\n",
       "      <th>dem_share</th>\n",
       "    </tr>\n",
       "  </thead>\n",
       "  <tbody>\n",
       "    <tr>\n",
       "      <th>0</th>\n",
       "      <td>PA</td>\n",
       "      <td>Erie County</td>\n",
       "      <td>127691</td>\n",
       "      <td>75775</td>\n",
       "      <td>50351</td>\n",
       "      <td>60.08</td>\n",
       "    </tr>\n",
       "    <tr>\n",
       "      <th>1</th>\n",
       "      <td>PA</td>\n",
       "      <td>Bradford County</td>\n",
       "      <td>25787</td>\n",
       "      <td>10306</td>\n",
       "      <td>15057</td>\n",
       "      <td>40.64</td>\n",
       "    </tr>\n",
       "    <tr>\n",
       "      <th>2</th>\n",
       "      <td>PA</td>\n",
       "      <td>Tioga County</td>\n",
       "      <td>17984</td>\n",
       "      <td>6390</td>\n",
       "      <td>11326</td>\n",
       "      <td>36.07</td>\n",
       "    </tr>\n",
       "    <tr>\n",
       "      <th>3</th>\n",
       "      <td>PA</td>\n",
       "      <td>McKean County</td>\n",
       "      <td>15947</td>\n",
       "      <td>6465</td>\n",
       "      <td>9224</td>\n",
       "      <td>41.21</td>\n",
       "    </tr>\n",
       "    <tr>\n",
       "      <th>4</th>\n",
       "      <td>PA</td>\n",
       "      <td>Potter County</td>\n",
       "      <td>7507</td>\n",
       "      <td>2300</td>\n",
       "      <td>5109</td>\n",
       "      <td>31.04</td>\n",
       "    </tr>\n",
       "  </tbody>\n",
       "</table>\n",
       "</div>"
      ],
      "text/plain": [
       "  state           county  total_votes  dem_votes  rep_votes  dem_share\n",
       "0    PA      Erie County       127691      75775      50351      60.08\n",
       "1    PA  Bradford County        25787      10306      15057      40.64\n",
       "2    PA     Tioga County        17984       6390      11326      36.07\n",
       "3    PA    McKean County        15947       6465       9224      41.21\n",
       "4    PA    Potter County         7507       2300       5109      31.04"
      ]
     },
     "execution_count": 22,
     "metadata": {},
     "output_type": "execute_result"
    }
   ],
   "source": [
    "import pandas as pd\n",
    "\n",
    "# 2008年美国大选数据，三个州PA/OH/FL各个县(county)的数据\n",
    "# 民主党(dem)，共和党(rep)\n",
    "df_swing = pd.read_csv('../data/2008_swing_states.csv')\n",
    "\n",
    "df_swing.head()"
   ]
  },
  {
   "cell_type": "code",
   "execution_count": 35,
   "metadata": {},
   "outputs": [
    {
     "data": {
      "text/html": [
       "<div>\n",
       "<style scoped>\n",
       "    .dataframe tbody tr th:only-of-type {\n",
       "        vertical-align: middle;\n",
       "    }\n",
       "\n",
       "    .dataframe tbody tr th {\n",
       "        vertical-align: top;\n",
       "    }\n",
       "\n",
       "    .dataframe thead th {\n",
       "        text-align: right;\n",
       "    }\n",
       "</style>\n",
       "<table border=\"1\" class=\"dataframe\">\n",
       "  <thead>\n",
       "    <tr style=\"text-align: right;\">\n",
       "      <th></th>\n",
       "      <th>state</th>\n",
       "      <th>county</th>\n",
       "      <th>dem_share</th>\n",
       "    </tr>\n",
       "  </thead>\n",
       "  <tbody>\n",
       "    <tr>\n",
       "      <th>0</th>\n",
       "      <td>PA</td>\n",
       "      <td>Erie County</td>\n",
       "      <td>60.08</td>\n",
       "    </tr>\n",
       "    <tr>\n",
       "      <th>1</th>\n",
       "      <td>PA</td>\n",
       "      <td>Bradford County</td>\n",
       "      <td>40.64</td>\n",
       "    </tr>\n",
       "    <tr>\n",
       "      <th>2</th>\n",
       "      <td>PA</td>\n",
       "      <td>Tioga County</td>\n",
       "      <td>36.07</td>\n",
       "    </tr>\n",
       "    <tr>\n",
       "      <th>3</th>\n",
       "      <td>PA</td>\n",
       "      <td>McKean County</td>\n",
       "      <td>41.21</td>\n",
       "    </tr>\n",
       "    <tr>\n",
       "      <th>4</th>\n",
       "      <td>PA</td>\n",
       "      <td>Potter County</td>\n",
       "      <td>31.04</td>\n",
       "    </tr>\n",
       "  </tbody>\n",
       "</table>\n",
       "</div>"
      ],
      "text/plain": [
       "  state           county  dem_share\n",
       "0    PA      Erie County      60.08\n",
       "1    PA  Bradford County      40.64\n",
       "2    PA     Tioga County      36.07\n",
       "3    PA    McKean County      41.21\n",
       "4    PA    Potter County      31.04"
      ]
     },
     "execution_count": 35,
     "metadata": {},
     "output_type": "execute_result"
    }
   ],
   "source": [
    "# DataFrame选取指定列，将列名作为列表\n",
    "df = df_swing[['state', 'county', 'dem_share']]\n",
    "df.head()"
   ]
  },
  {
   "cell_type": "markdown",
   "metadata": {},
   "source": [
    "# 直方图\n",
    "直方图主要用来反映一组样本数据的分布情况。从图的形式来看，它属于**柱状图**的一种，但它和柱状图相比还是有很多不同之处的：\n",
    "- 直方图的任意两个 bar 之间不允许有间隙，这是因为原始样本值被分割成一系列连续的、相互邻接的小区间，每一个小区间都是左闭右开的，除了最后一个，如[x0, x1), [x1,x2), [x2,x3）；\n",
    "- 在直方图中小区间又被称为“bin”。其中bin的高度是由落入该区间中样本值的个数决定的；"
   ]
  },
  {
   "cell_type": "code",
   "execution_count": 36,
   "metadata": {},
   "outputs": [
    {
     "data": {
      "image/png": "[encoded data removed]",
      "text/plain": [
       "<matplotlib.figure.Figure at 0x11865ab00>"
      ]
     },
     "metadata": {},
     "output_type": "display_data"
    }
   ],
   "source": [
    "import matplotlib.pyplot as plt\n",
    "\n",
    "# 将返回值保存到dummy变量‘_’中\n",
    "_ = plt.hist(df['dem_share'])\n",
    "\n",
    "# 最佳实践：永远永远永远对坐标轴进行标注\n",
    "_ = plt.xlabel('percent of vote for Obama')\n",
    "_ = plt.ylabel('number of counties')\n",
    "plt.show()"
   ]
  },
  {
   "cell_type": "markdown",
   "metadata": {},
   "source": [
    "**bins** : integer or sequence or ‘auto’, optional\n",
    "\n",
    "- If an integer is given, bins + 1 bin edges are calculated and returned, consistent with numpy.histogram().\n",
    "- If bins is a sequence, gives bin edges, including left edge of first bin and right edge of last bin. In this case, bins is returned unmodified.\n",
    "- All but the last (righthand-most) bin is half-open. In other words, if bins is:\n",
    "```\n",
    "[1, 2, 3, 4]\n",
    "```\n",
    "then the first bin is [1, 2) (including 1, but excluding 2) and the second [2, 3). The last bin, however, is [3, 4], which includes 4."
   ]
  },
  {
   "cell_type": "code",
   "execution_count": 37,
   "metadata": {},
   "outputs": [
    {
     "data": {
      "image/png": "[encoded data removed]",
      "text/plain": [
       "<matplotlib.figure.Figure at 0x115a32208>"
      ]
     },
     "metadata": {},
     "output_type": "display_data"
    }
   ],
   "source": [
    "# binning\n",
    "import matplotlib.pyplot as plt\n",
    "\n",
    "# 指定区间\n",
    "bin_edges = [0, 10, 20, 30, 40, 50, 60, 70, 80, 90, 100]\n",
    "\n",
    "# 将返回值保存到dummy变量‘_’中\n",
    "_ = plt.hist(df['dem_share'], bins=bin_edges)\n",
    "\n",
    "# 最佳实践：永远永远永远对坐标轴进行标注\n",
    "_ = plt.xlabel('percent of vote for Obama')\n",
    "_ = plt.ylabel('number of counties')\n",
    "plt.show()"
   ]
  },
  {
   "cell_type": "code",
   "execution_count": 38,
   "metadata": {},
   "outputs": [
    {
     "data": {
      "image/png": "[encoded data removed]",
      "text/plain": [
       "<matplotlib.figure.Figure at 0x11598aac8>"
      ]
     },
     "metadata": {},
     "output_type": "display_data"
    }
   ],
   "source": [
    "import matplotlib.pyplot as plt\n",
    "\n",
    "# 将返回值保存到dummy变量‘_’中\n",
    "# bins参数默认为10\n",
    "# 将样本值划分为bins个区间，也即有bins+1个bin edges\n",
    "_ = plt.hist(df['dem_share'], bins=5)\n",
    "\n",
    "# 最佳实践：永远永远永远对坐标轴进行标注\n",
    "_ = plt.xlabel('percent of vote for Obama')\n",
    "_ = plt.ylabel('number of counties')\n",
    "plt.show()"
   ]
  },
  {
   "cell_type": "markdown",
   "metadata": {},
   "source": [
    "# 练习1\n",
    "读取鸢尾花(virginica亚属)的数据(iris.csv)，创建四个code block，将`sepal_length`、`sepal_width`、`petal_length`和`petal_width`数据通过直方图呈现。\n",
    "\n",
    "参考代码：\n",
    "```\n",
    "import pandas as pd\n",
    "import matplotlib.pyplot as plt\n",
    "import seaborn as sns\n",
    "\n",
    "sns.set()\n",
    "\n",
    "# 读取数据\n",
    "df = pd.read_csv('../data/iris.csv')\n",
    "\n",
    "# sepal_length where species is virginica\n",
    "virginica = df.loc[df['species'] == 'virginica']\n",
    "\n",
    "# 获取sepal_length\n",
    "sepal_length = virginica['sepal_length']\n",
    "\n",
    "# 剩余代码请自行补齐\n",
    "```"
   ]
  },
  {
   "cell_type": "code",
   "execution_count": 39,
   "metadata": {},
   "outputs": [],
   "source": [
    "# sepal_length"
   ]
  },
  {
   "cell_type": "code",
   "execution_count": 40,
   "metadata": {},
   "outputs": [],
   "source": [
    "# sepal_width"
   ]
  },
  {
   "cell_type": "code",
   "execution_count": 41,
   "metadata": {},
   "outputs": [],
   "source": [
    "# petal_length"
   ]
  },
  {
   "cell_type": "code",
   "execution_count": 42,
   "metadata": {},
   "outputs": [],
   "source": [
    "# petal_width"
   ]
  },
  {
   "cell_type": "markdown",
   "metadata": {},
   "source": [
    "# Subplots\n"
   ]
  },
  {
   "cell_type": "code",
   "execution_count": 48,
   "metadata": {},
   "outputs": [
    {
     "data": {
      "image/png": "[encoded data removed]",
      "text/plain": [
       "<matplotlib.figure.Figure at 0x11876f5c0>"
      ]
     },
     "metadata": {},
     "output_type": "display_data"
    }
   ],
   "source": [
    "import matplotlib.pyplot as plt\n",
    "\n",
    "\n",
    "fig, ax = plt.subplots(nrows=2, ncols=2)\n",
    "\n",
    "n = 1\n",
    "for row in ax:\n",
    "    for col in row:\n",
    "        bins = 5*n\n",
    "        _ = col.hist(df['dem_share'], bins=bins)\n",
    "        n += 1\n",
    "\n",
    "plt.show()"
   ]
  },
  {
   "cell_type": "markdown",
   "metadata": {},
   "source": [
    "# Binning bias\n",
    "**问题**: \n",
    "- bins参数的不同，对应的直方图也不一样，从而导致可能得出不同的解释；\n",
    "- 直方图并没有显示所有的数据，而只是显示对应区间样本的数量(频次);\n",
    "\n",
    "# Bee Swarm Plot\n",
    "参考： http://resources.rhoworld.com/blog/resourcebrcenter/rhos-blog/i-swarm-you-swarm-we-all-swarm-for-beeswarm-plots-0"
   ]
  },
  {
   "cell_type": "code",
   "execution_count": 49,
   "metadata": {},
   "outputs": [
    {
     "data": {
      "image/png": "[encoded data removed]",
      "text/plain": [
       "<matplotlib.figure.Figure at 0x111b1e4a8>"
      ]
     },
     "metadata": {},
     "output_type": "display_data"
    }
   ],
   "source": [
    "import pandas as pd\n",
    "import seaborn as sns\n",
    "import matplotlib.pyplot as plt\n",
    "\n",
    "# 2008年美国大选数据，三个州PA/OH/FL各个县(county)的数据\n",
    "# 民主党(dem)，共和党(rep)\n",
    "df_swing = pd.read_csv('../data/2008_swing_states.csv')\n",
    "\n",
    "_ = sns.swarmplot(x='state', y='dem_share', data=df_swing)\n",
    "_ = plt.xlabel('state')\n",
    "_ = plt.ylabel('percent of vote for ombama')\n",
    "\n",
    "plt.show()"
   ]
  },
  {
   "cell_type": "markdown",
   "metadata": {},
   "source": [
    "# 练习2\n",
    "\n",
    "读取iris数据，绘制bee swarm plot (x为`species`，y为`sepal_length`)。要求为坐标轴打上标签。\n",
    "\n",
    "参考代码：\n",
    "```\n",
    "import pandas as pd\n",
    "import matplotlib.pyplot as plt\n",
    "import seaborn as sns\n",
    "\n",
    "sns.set()\n",
    "\n",
    "# 读取数据\n",
    "df = pd.read_csv('../data/iris.csv')\n",
    "\n",
    "# 剩余代码请自行补齐\n",
    "```\n"
   ]
  },
  {
   "cell_type": "code",
   "execution_count": null,
   "metadata": {},
   "outputs": [],
   "source": [
    "# 练习2代码......"
   ]
  },
  {
   "cell_type": "markdown",
   "metadata": {},
   "source": [
    "# ECDF (Empirical cumulative distribution functions)\n"
   ]
  },
  {
   "cell_type": "code",
   "execution_count": null,
   "metadata": {},
   "outputs": [],
   "source": [
    "import numpy as np\n",
    "import pandas as pd\n",
    "import seaborn as sns\n",
    "import matplotlib.pyplot as plt\n",
    "\n",
    "sns.set()\n",
    "\n",
    "# 2008年美国大选数据，三个州PA/OH/FL各个县(county)的数据\n",
    "# 民主党(dem)，共和党(rep)\n",
    "df_swing = pd.read_csv('../data/2008_swing_states.csv')"
   ]
  },
  {
   "cell_type": "code",
   "execution_count": 56,
   "metadata": {},
   "outputs": [
    {
     "name": "stdout",
     "output_type": "stream",
     "text": [
      "[0.0045045  0.00900901 0.01351351 0.01801802 0.02252252 0.02702703\n",
      " 0.03153153 0.03603604 0.04054054 0.04504505 0.04954955 0.05405405\n",
      " 0.05855856 0.06306306 0.06756757 0.07207207 0.07657658 0.08108108\n",
      " 0.08558559 0.09009009 0.09459459 0.0990991  0.1036036  0.10810811\n",
      " 0.11261261 0.11711712 0.12162162 0.12612613 0.13063063 0.13513514\n",
      " 0.13963964 0.14414414 0.14864865 0.15315315 0.15765766 0.16216216\n",
      " 0.16666667 0.17117117 0.17567568 0.18018018 0.18468468 0.18918919\n",
      " 0.19369369 0.1981982  0.2027027  0.20720721 0.21171171 0.21621622\n",
      " 0.22072072 0.22522523 0.22972973 0.23423423 0.23873874 0.24324324\n",
      " 0.24774775 0.25225225 0.25675676 0.26126126 0.26576577 0.27027027\n",
      " 0.27477477 0.27927928 0.28378378 0.28828829 0.29279279 0.2972973\n",
      " 0.3018018  0.30630631 0.31081081 0.31531532 0.31981982 0.32432432\n",
      " 0.32882883 0.33333333 0.33783784 0.34234234 0.34684685 0.35135135\n",
      " 0.35585586 0.36036036 0.36486486 0.36936937 0.37387387 0.37837838\n",
      " 0.38288288 0.38738739 0.39189189 0.3963964  0.4009009  0.40540541\n",
      " 0.40990991 0.41441441 0.41891892 0.42342342 0.42792793 0.43243243\n",
      " 0.43693694 0.44144144 0.44594595 0.45045045 0.45495495 0.45945946\n",
      " 0.46396396 0.46846847 0.47297297 0.47747748 0.48198198 0.48648649\n",
      " 0.49099099 0.4954955  0.5        0.5045045  0.50900901 0.51351351\n",
      " 0.51801802 0.52252252 0.52702703 0.53153153 0.53603604 0.54054054\n",
      " 0.54504505 0.54954955 0.55405405 0.55855856 0.56306306 0.56756757\n",
      " 0.57207207 0.57657658 0.58108108 0.58558559 0.59009009 0.59459459\n",
      " 0.5990991  0.6036036  0.60810811 0.61261261 0.61711712 0.62162162\n",
      " 0.62612613 0.63063063 0.63513514 0.63963964 0.64414414 0.64864865\n",
      " 0.65315315 0.65765766 0.66216216 0.66666667 0.67117117 0.67567568\n",
      " 0.68018018 0.68468468 0.68918919 0.69369369 0.6981982  0.7027027\n",
      " 0.70720721 0.71171171 0.71621622 0.72072072 0.72522523 0.72972973\n",
      " 0.73423423 0.73873874 0.74324324 0.74774775 0.75225225 0.75675676\n",
      " 0.76126126 0.76576577 0.77027027 0.77477477 0.77927928 0.78378378\n",
      " 0.78828829 0.79279279 0.7972973  0.8018018  0.80630631 0.81081081\n",
      " 0.81531532 0.81981982 0.82432432 0.82882883 0.83333333 0.83783784\n",
      " 0.84234234 0.84684685 0.85135135 0.85585586 0.86036036 0.86486486\n",
      " 0.86936937 0.87387387 0.87837838 0.88288288 0.88738739 0.89189189\n",
      " 0.8963964  0.9009009  0.90540541 0.90990991 0.91441441 0.91891892\n",
      " 0.92342342 0.92792793 0.93243243 0.93693694 0.94144144 0.94594595\n",
      " 0.95045045 0.95495495 0.95945946 0.96396396 0.96846847 0.97297297\n",
      " 0.97747748 0.98198198 0.98648649 0.99099099 0.9954955  1.        ]\n"
     ]
    }
   ],
   "source": [
    "x = np.sort(df_swing['dem_share'])\n",
    "n = len(x)\n",
    "y = np.arange(1, n+1)/n\n",
    "print(y)"
   ]
  },
  {
   "cell_type": "code",
   "execution_count": 58,
   "metadata": {},
   "outputs": [
    {
     "data": {
      "image/png": "[encoded data removed]",
      "text/plain": [
       "<matplotlib.figure.Figure at 0x115729e10>"
      ]
     },
     "metadata": {},
     "output_type": "display_data"
    }
   ],
   "source": [
    "_ = plt.plot(x, y, marker='.', linestyle='none')\n",
    "plt.xlabel('percent of vote for ombama')\n",
    "plt.ylabel('ECDF')\n",
    "plt.show()"
   ]
  },
  {
   "cell_type": "markdown",
   "metadata": {},
   "source": [
    "# 练习3\n",
    "- 创造一个`ecdf`函数，该函数原型：\n",
    "```\n",
    "def ecdf(data):\n",
    "    \"\"\"\n",
    "    输入参数为样本数据，类型为列表\n",
    "    返回值为绘制ecdf图所需要的x和y\n",
    "    \"\"\"\n",
    "    \n",
    "    # Number of data points: n\n",
    "    n = _____\n",
    "    \n",
    "    # x-data for the ECDF: x\n",
    "    x = _____\n",
    "    \n",
    "    # y-data for the ECDF: y\n",
    "    y = _____\n",
    "    \n",
    "    return x, y\n",
    "```\n",
    "- 使用iris数据，绘制`virginica`类别的sepal_length数据的ECDF图，使用上面定义的`ecdf`函数。"
   ]
  },
  {
   "cell_type": "code",
   "execution_count": null,
   "metadata": {},
   "outputs": [],
   "source": [
    "# 练习3代码"
   ]
  },
  {
   "cell_type": "markdown",
   "metadata": {},
   "source": [
    "# Box plot"
   ]
  },
  {
   "cell_type": "code",
   "execution_count": 60,
   "metadata": {},
   "outputs": [
    {
     "data": {
      "image/png": "[encoded data removed]",
      "text/plain": [
       "<matplotlib.figure.Figure at 0x118b75978>"
      ]
     },
     "metadata": {},
     "output_type": "display_data"
    }
   ],
   "source": [
    "import pandas as pd\n",
    "import seaborn as sns\n",
    "import matplotlib.pyplot as plt\n",
    "\n",
    "# 2008年美国大选数据，三个州PA/OH/FL各个县(county)的数据\n",
    "# 民主党(dem)，共和党(rep)\n",
    "df_swing = pd.read_csv('../data/2008_swing_states.csv')\n",
    "\n",
    "_ = sns.boxplot(x='state', y='dem_share', data=df_swing)\n",
    "_ = plt.xlabel('state')\n",
    "_ = plt.ylabel('percent of vote for ombama')\n",
    "\n",
    "plt.show()"
   ]
  },
  {
   "cell_type": "markdown",
   "metadata": {},
   "source": [
    "# 练习4\n",
    "使用iris数据，绘制不同种类(`species`，共计3种)鸢尾花`sepal_length`的box plot。"
   ]
  },
  {
   "cell_type": "code",
   "execution_count": null,
   "metadata": {},
   "outputs": [],
   "source": [
    "# 练习4代码"
   ]
  },
  {
   "cell_type": "markdown",
   "metadata": {},
   "source": [
    "# Scatter Plot"
   ]
  },
  {
   "cell_type": "code",
   "execution_count": 63,
   "metadata": {},
   "outputs": [
    {
     "data": {
      "image/png": "[encoded data removed]",
      "text/plain": [
       "<matplotlib.figure.Figure at 0x1117f8048>"
      ]
     },
     "metadata": {},
     "output_type": "display_data"
    }
   ],
   "source": [
    "import pandas as pd\n",
    "import seaborn as sns\n",
    "import matplotlib.pyplot as plt\n",
    "\n",
    "# 2008年美国大选数据，三个州PA/OH/FL各个县(county)的数据\n",
    "# 民主党(dem)，共和党(rep)\n",
    "df_swing = pd.read_csv('../data/2008_swing_states.csv')\n",
    "\n",
    "total_votes = df_swing['total_votes']\n",
    "dem_share = df_swing['dem_share']\n",
    "_ = plt.plot(total_votes/1000, dem_share, marker='.', linestyle='none')\n",
    "_ = plt.xlabel('total votes (thousands)')\n",
    "_ = plt.ylabel('percent of vote for ombama')\n",
    "\n",
    "plt.show()"
   ]
  },
  {
   "cell_type": "markdown",
   "metadata": {},
   "source": [
    "# 练习5\n",
    "从iris数据，获取`virginica`种类鸢尾花两个属性`petal_length`和`petal_width`的数据。使用Scatter plot绘制对这两组数据进行可视化。"
   ]
  },
  {
   "cell_type": "code",
   "execution_count": 64,
   "metadata": {},
   "outputs": [],
   "source": [
    "# 练习5代码"
   ]
  },
  {
   "cell_type": "code",
   "execution_count": null,
   "metadata": {},
   "outputs": [],
   "source": []
  }
 ],
 "metadata": {
  "kernelspec": {
   "display_name": "Python 3",
   "language": "python",
   "name": "python3"
  },
  "language_info": {
   "codemirror_mode": {
    "name": "ipython",
    "version": 3
   },
   "file_extension": ".py",
   "mimetype": "text/x-python",
   "name": "python",
   "nbconvert_exporter": "python",
   "pygments_lexer": "ipython3",
   "version": "3.6.4"
  }
 },
 "nbformat": 4,
 "nbformat_minor": 2
}
