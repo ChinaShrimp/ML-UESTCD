{
 "cells": [
  {
   "cell_type": "code",
   "execution_count": 28,
   "metadata": {
    "collapsed": true
   },
   "outputs": [],
   "source": [
    "import tensorflow as tf"
   ]
  },
  {
   "cell_type": "markdown",
   "metadata": {},
   "source": [
    "# 1. TensorFlow概览\n",
    "TensorFlow Core 程序看作由两个互相独立的部分组成: \n",
    "- 构建计算图(Computational Graph)\n",
    "- 运行计算图"
   ]
  },
  {
   "cell_type": "markdown",
   "metadata": {},
   "source": [
    "## 1.1 构建计算图 (tf.Graph)\n",
    "计算图是排列成一个图的一系列 TensorFlow 指令。图由两种类型的对象组成。\n",
    "- 指令（或“op\"）：图的节点。 指令说明的是消耗和生成张量的计算。\n",
    "- 张量：图的边。它们代表将流经图的值。大多数 TensorFlow 函数会返回 tf.Tensors。"
   ]
  },
  {
   "cell_type": "code",
   "execution_count": null,
   "metadata": {
    "collapsed": false
   },
   "outputs": [],
   "source": [
    "# x和y均为常量\n",
    "x = tf.constant(8, dtype=tf.float32)\n",
    "y = tf.constant(9, dtype=tf.float32)\n",
    "z = x*y\n",
    "\n",
    "print(x)\n",
    "print(y)\n",
    "print(z)"
   ]
  },
  {
   "cell_type": "markdown",
   "metadata": {},
   "source": [
    "- 打印张量并不会如您可能预期的那样输出值8.0、9.0 和 72.0。上述语句只会构建计算图。这些 tf.Tensor 对象仅代表将要运行的指令的结果。\n",
    "- 图中的每个指令都拥有唯一的名称。这个名称不同于使用 Python 分配给相应对象的名称。张量是根据生成它们的指令命名的，后面跟着输出索引，如上文的 \"Const_2:0\" 所示。"
   ]
  },
  {
   "cell_type": "markdown",
   "metadata": {},
   "source": [
    "tf.Tensor 有以下属性：\n",
    "- 数据类型（例如 float32，int32 或 string）\n",
    "- 形状\n",
    "\n",
    "张量中的每个元素都具有相同的数据类型，且该数据类型一定是已知的。形状，即张量的维数和每个维度的大小，可能只有部分已知。如果其输入的形状也完全已知，则大多数指令会生成形状完全已知的张量，但在某些情况下，只能在图的执行时间找到张量的形状。\n",
    "\n",
    "关于张量进一步的描述可以参考：https://www.tensorflow.org/programmers_guide/tensors?hl=zh-cn"
   ]
  },
  {
   "cell_type": "markdown",
   "metadata": {},
   "source": [
    "## 1.2 运行计算图 (tf.Session)"
   ]
  },
  {
   "cell_type": "markdown",
   "metadata": {},
   "source": [
    "要评估张量，您需要实例化一个`tf.Session`对象（通常被称为会话）。会话会封装`TensorFlow`运行时的状态，并运行`TensorFlow`指令。如果说`tf.Graph`像一个`.py`文件，那么 `tf.Session`就像一个可执行的`python`。\n",
    "\n",
    "下面的代码会创建一个`tf.Session`对象，然后调用其`run`方法来评估我们在`1.1`中创建的`z`张量："
   ]
  },
  {
   "cell_type": "code",
   "execution_count": 24,
   "metadata": {
    "collapsed": false
   },
   "outputs": [
    {
     "name": "stdout",
     "output_type": "stream",
     "text": [
      "72.0\n"
     ]
    }
   ],
   "source": [
    "# 创建会话\n",
    "sess = tf.Session()\n",
    "\n",
    "# 运行会话\n",
    "out_z = sess.run(z)\n",
    "\n",
    "print(out_z)"
   ]
  },
  {
   "cell_type": "markdown",
   "metadata": {},
   "source": [
    "当您使`Session.run`请求输出节点时，`TensorFlow`会回溯整个图，并流经提供了所请求的输出节点对应的输入值的所有节点。因此此指令会打印预期的值72.0。\n",
    "\n",
    "您可以将多个张量传递给`tf.Session.run`。`run`方法以透明方式处理元组或字典的任何组合，如下例所示："
   ]
  },
  {
   "cell_type": "code",
   "execution_count": 15,
   "metadata": {
    "collapsed": false
   },
   "outputs": [
    {
     "data": {
      "text/plain": [
       "{'xy': (8.0, 9.0), 'z': 72.0}"
      ]
     },
     "execution_count": 15,
     "metadata": {},
     "output_type": "execute_result"
    }
   ],
   "source": [
    "sess.run({'xy':(x, y), 'z':z})"
   ]
  },
  {
   "cell_type": "code",
   "execution_count": 16,
   "metadata": {
    "collapsed": true
   },
   "outputs": [],
   "source": [
    "# 关闭会话\n",
    "sess.close()"
   ]
  },
  {
   "cell_type": "markdown",
   "metadata": {},
   "source": [
    "**练习**：使用TensorFlow编写程序计算: 3*4+6\n",
    "- 使用tf.const创建3、4、6常量\n",
    "- 使用+/-/*//运算符号"
   ]
  },
  {
   "cell_type": "code",
   "execution_count": 20,
   "metadata": {
    "collapsed": false
   },
   "outputs": [
    {
     "name": "stdout",
     "output_type": "stream",
     "text": [
      "18.0\n"
     ]
    }
   ],
   "source": [
    "import tensorflow as tf\n",
    "\n",
    "# out = d*c = (a+b)*c\n",
    "a = tf.constant(3, dtype=tf.float32)\n",
    "b = tf.constant(_______)\n",
    "c = tf.constant(_______)\n",
    "\n",
    "d = ____\n",
    "out = _____\n",
    "\n",
    "# 创建会话\n",
    "sess = ________\n",
    "\n",
    "# 运行会话\n",
    "out_ = sess.run(____)\n",
    "\n",
    "print(out_)"
   ]
  },
  {
   "cell_type": "markdown",
   "metadata": {},
   "source": [
    "# 1.3 输入参数\n",
    "`1.1`案例中，`x`和`y`均为两个常量，可以使用占位符`placeholder`来改变计算图中变量的值，例如:"
   ]
  },
  {
   "cell_type": "code",
   "execution_count": 26,
   "metadata": {
    "collapsed": false
   },
   "outputs": [
    {
     "name": "stdout",
     "output_type": "stream",
     "text": [
      "56.0\n"
     ]
    }
   ],
   "source": [
    "import tensorflow as tf\n",
    "\n",
    "# x和y均为placeholder\n",
    "x = tf.placeholder(tf.float32, name=\"x\")\n",
    "y = tf.placeholder(tf.float32, name=\"y\")\n",
    "z = x*y\n",
    "\n",
    "with tf.Session() as sess:\n",
    "  out_ = sess.run(z, feed_dict={x: 7, y: 8})\n",
    "  print(out_)"
   ]
  },
  {
   "cell_type": "markdown",
   "metadata": {},
   "source": [
    "**练习**： 使用`placeholder`改进上一个练习的程序，计算: a*b+c。"
   ]
  },
  {
   "cell_type": "code",
   "execution_count": 27,
   "metadata": {
    "collapsed": false
   },
   "outputs": [
    {
     "ename": "NameError",
     "evalue": "name '____' is not defined",
     "output_type": "error",
     "traceback": [
      "\u001b[0;31m---------------------------------------------------------------------------\u001b[0m",
      "\u001b[0;31mNameError\u001b[0m                                 Traceback (most recent call last)",
      "\u001b[0;32m<ipython-input-27-f463d1658510>\u001b[0m in \u001b[0;36m<module>\u001b[0;34m()\u001b[0m\n\u001b[1;32m      3\u001b[0m \u001b[0;31m# out = d*c = (a+b)*c\u001b[0m\u001b[0;34m\u001b[0m\u001b[0;34m\u001b[0m\u001b[0m\n\u001b[1;32m      4\u001b[0m \u001b[0ma\u001b[0m \u001b[0;34m=\u001b[0m \u001b[0mtf\u001b[0m\u001b[0;34m.\u001b[0m\u001b[0mplaceholder\u001b[0m\u001b[0;34m(\u001b[0m\u001b[0mtf\u001b[0m\u001b[0;34m.\u001b[0m\u001b[0mfloat32\u001b[0m\u001b[0;34m,\u001b[0m \u001b[0mname\u001b[0m\u001b[0;34m=\u001b[0m\u001b[0;34m\"a\"\u001b[0m\u001b[0;34m)\u001b[0m\u001b[0;34m\u001b[0m\u001b[0m\n\u001b[0;32m----> 5\u001b[0;31m \u001b[0mb\u001b[0m \u001b[0;34m=\u001b[0m \u001b[0m____\u001b[0m\u001b[0;34m\u001b[0m\u001b[0m\n\u001b[0m\u001b[1;32m      6\u001b[0m \u001b[0mc\u001b[0m \u001b[0;34m=\u001b[0m \u001b[0m____\u001b[0m\u001b[0;34m\u001b[0m\u001b[0m\n\u001b[1;32m      7\u001b[0m \u001b[0;34m\u001b[0m\u001b[0m\n",
      "\u001b[0;31mNameError\u001b[0m: name '____' is not defined"
     ]
    }
   ],
   "source": [
    "import tensorflow as tf\n",
    "\n",
    "# out = d*c = (a+b)*c\n",
    "a = tf.placeholder(tf.float32, name=\"a\")\n",
    "b = ____\n",
    "c = ____\n",
    "\n",
    "d = ____\n",
    "out = _____\n",
    "\n",
    "# 创建会话\n",
    "with tf.Session() as sess:\n",
    "  # 通过feed_dict字典传入参数a=3, b=5, c=5\n",
    "  out_ = sess.run(__, feed_dict=_____)\n",
    "  # 正确输出：20\n",
    "  print(out_)"
   ]
  },
  {
   "cell_type": "markdown",
   "metadata": {},
   "source": [
    "## 1.4 总结：TensorFlow程序代码结构\n",
    "\n",
    "- 创建计算图：Construction of the computational graph that involves some operations on tensors \n",
    "- 创建会话：Creation of a session\n",
    "- 运行会话：Running a session; performed for the operations defined in the graph\n",
    "- 分析：Computation for data collection and analysis"
   ]
  },
  {
   "cell_type": "code",
   "execution_count": null,
   "metadata": {
    "collapsed": true
   },
   "outputs": [],
   "source": []
  }
 ],
 "metadata": {
  "kernelspec": {
   "display_name": "Python 3",
   "language": "python",
   "name": "python3"
  },
  "language_info": {
   "codemirror_mode": {
    "name": "ipython",
    "version": 3
   },
   "file_extension": ".py",
   "mimetype": "text/x-python",
   "name": "python",
   "nbconvert_exporter": "python",
   "pygments_lexer": "ipython3",
   "version": "3.5.2"
  }
 },
 "nbformat": 4,
 "nbformat_minor": 2
}
