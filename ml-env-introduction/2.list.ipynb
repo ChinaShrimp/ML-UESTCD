{
 "cells": [
  {
   "cell_type": "code",
   "execution_count": 2,
   "metadata": {
    "collapsed": true
   },
   "outputs": [],
   "source": [
    "# 准备工作，读取数据\n",
    "import pandas as pd\n",
    "df = pd.read_csv('../data/gapminder.csv')\n",
    "gdp_cap = df.gdp_cap.tolist()\n",
    "life_exp = df.life_exp.tolist()\n",
    "pop = df.population.tolist()"
   ]
  },
  {
   "cell_type": "markdown",
   "metadata": {},
   "source": [
    "List常用的操作"
   ]
  },
  {
   "cell_type": "code",
   "execution_count": 3,
   "metadata": {
    "collapsed": false
   },
   "outputs": [
    {
     "name": "stdout",
     "output_type": "stream",
     "text": [
      "<type 'list'>\n"
     ]
    }
   ],
   "source": [
    "print(type(pop))"
   ]
  },
  {
   "cell_type": "code",
   "execution_count": 4,
   "metadata": {
    "collapsed": false
   },
   "outputs": [
    {
     "name": "stdout",
     "output_type": "stream",
     "text": [
      "[31889923.0, 3600523.0, 33333216.0, 12420476.0, 40301927.0, 20434176.0, 8199783.0, 708573.0, 150448339.0, 10392226.0, 8078314.0, 9119152.0, 4552198.0, 1639131.0, 190010647.0, 7322858.0, 14326203.0, 8390505.0, 14131858.0, 17696293.0, 33390141.0, 4369038.0, 10238807.0, 16284741.0, 1318683096.0, 44227550.0, 710960.0, 64606759.0, 3800610.0, 4133884.0, 18013409.0, 4493312.0, 11416987.0, 10228744.0, 5468120.0, 496374.0, 9319622.0, 13755680.0, 80264543.0, 6939688.0, 551201.0, 4906585.0, 76511887.0, 5238460.0, 61083916.0, 1454867.0, 1688359.0, 82400996.0, 22873338.0, 10706290.0, 12572928.0, 9947814.0, 1472041.0, 8502814.0, 7483763.0, 6980412.0, 9956108.0, 301931.0, 1110396331.0, 223547000.0, 69453570.0, 27499638.0, 4109086.0, 6426679.0, 58147733.0, 2780132.0, 127467972.0, 6053193.0, 35610177.0, 23301725.0, 49044790.0, 2505559.0, 3921278.0, 2012649.0, 3193942.0, 6036914.0, 19167654.0, 13327079.0, 24821286.0, 12031795.0, 3270065.0, 1250882.0, 108700891.0, 2874127.0, 684736.0, 33757175.0, 19951656.0, 47761980.0, 2055080.0, 28901790.0, 16570613.0, 4115771.0, 5675356.0, 12894865.0, 135031164.0, 4627926.0, 3204897.0, 169270617.0, 3242173.0, 6667147.0, 28674757.0, 91077287.0, 38518241.0, 10642836.0, 3942491.0, 798094.0, 22276056.0, 8860588.0, 199579.0, 27601038.0, 12267493.0, 10150265.0, 6144562.0, 4553009.0, 5447502.0, 2009245.0, 9118773.0, 43997828.0, 40448191.0, 20378239.0, 42292929.0, 1133066.0, 9031088.0, 7554661.0, 19314747.0, 23174294.0, 38139640.0, 65068149.0, 5701579.0, 1056608.0, 10276158.0, 71158647.0, 29170398.0, 60776238.0, 301139947.0, 3447496.0, 26084662.0, 85262356.0, 4018332.0, 22211743.0, 11746035.0, 12311143.0]\n"
     ]
    }
   ],
   "source": [
    "print(pop)"
   ]
  },
  {
   "cell_type": "code",
   "execution_count": 5,
   "metadata": {
    "collapsed": false
   },
   "outputs": [
    {
     "name": "stdout",
     "output_type": "stream",
     "text": [
      "142\n"
     ]
    }
   ],
   "source": [
    "print(len(pop))"
   ]
  },
  {
   "cell_type": "code",
   "execution_count": 6,
   "metadata": {
    "collapsed": false
   },
   "outputs": [
    {
     "name": "stdout",
     "output_type": "stream",
     "text": [
      "31889923.0\n"
     ]
    }
   ],
   "source": [
    "print(pop[0])"
   ]
  },
  {
   "cell_type": "code",
   "execution_count": 7,
   "metadata": {
    "collapsed": false
   },
   "outputs": [
    {
     "name": "stdout",
     "output_type": "stream",
     "text": [
      "12311143.0\n"
     ]
    }
   ],
   "source": [
    "print(pop[-1])"
   ]
  },
  {
   "cell_type": "code",
   "execution_count": 8,
   "metadata": {
    "collapsed": false
   },
   "outputs": [
    {
     "name": "stdout",
     "output_type": "stream",
     "text": [
      "[3600523.0, 33333216.0, 12420476.0, 40301927.0]\n"
     ]
    }
   ],
   "source": [
    "print(pop[1:5])"
   ]
  },
  {
   "cell_type": "code",
   "execution_count": 9,
   "metadata": {
    "collapsed": false
   },
   "outputs": [
    {
     "name": "stdout",
     "output_type": "stream",
     "text": [
      "[4018332.0, 22211743.0, 11746035.0, 12311143.0]\n"
     ]
    }
   ],
   "source": [
    "print(pop[-4:])"
   ]
  },
  {
   "cell_type": "code",
   "execution_count": 14,
   "metadata": {
    "collapsed": false
   },
   "outputs": [
    {
     "name": "stdout",
     "output_type": "stream",
     "text": [
      "0\n",
      "0\n"
     ]
    }
   ],
   "source": [
    "pop1 = pop\n",
    "pop1[-1] = 0\n",
    "print(pop1[-1])\n",
    "print(pop[-1])"
   ]
  },
  {
   "cell_type": "code",
   "execution_count": 15,
   "metadata": {
    "collapsed": false
   },
   "outputs": [
    {
     "name": "stdout",
     "output_type": "stream",
     "text": [
      "2\n",
      "0\n"
     ]
    }
   ],
   "source": [
    "pop1 = list(pop)\n",
    "pop1[-1] = 2\n",
    "print(pop1[-1])\n",
    "print(pop[-1])"
   ]
  },
  {
   "cell_type": "code",
   "execution_count": 16,
   "metadata": {
    "collapsed": false
   },
   "outputs": [
    {
     "name": "stdout",
     "output_type": "stream",
     "text": [
      "142\n",
      "142\n",
      "284\n"
     ]
    }
   ],
   "source": [
    "pop2 = pop + pop1\n",
    "print(len(pop))\n",
    "print(len(pop1))\n",
    "print(len(pop2))"
   ]
  },
  {
   "cell_type": "code",
   "execution_count": null,
   "metadata": {
    "collapsed": true
   },
   "outputs": [],
   "source": []
  }
 ],
 "metadata": {
  "kernelspec": {
   "display_name": "Python 2",
   "language": "python",
   "name": "python2"
  },
  "language_info": {
   "codemirror_mode": {
    "name": "ipython",
    "version": 2
   },
   "file_extension": ".py",
   "mimetype": "text/x-python",
   "name": "python",
   "nbconvert_exporter": "python",
   "pygments_lexer": "ipython2",
   "version": "2.7.12"
  }
 },
 "nbformat": 4,
 "nbformat_minor": 2
}
