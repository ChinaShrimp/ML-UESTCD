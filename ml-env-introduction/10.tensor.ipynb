{
 "cells": [
  {
   "cell_type": "markdown",
   "metadata": {},
   "source": [
    "# 1. 张量 (tensor)\n",
    "本notebook主要练习：如何构造和使用 **scalars(标量)**, **vectors(向量)**, **matrices(矩阵)**, 以及不同维度的**tensors(张量)**。"
   ]
  },
  {
   "cell_type": "code",
   "execution_count": null,
   "metadata": {
    "collapsed": true
   },
   "outputs": [],
   "source": [
    "import numpy as np"
   ]
  },
  {
   "cell_type": "markdown",
   "metadata": {},
   "source": [
    "## 1.1 标量(Scalar)\n",
    "A scalar represents a one-component quantity, such as a single number. \n",
    "\n",
    "标量只有一个分量，例如一个数字。物理学中标量也成为“无向量”，即没有方向。\n",
    "\n",
    "Notation: $a$ - a scalar (integer or real)"
   ]
  },
  {
   "cell_type": "markdown",
   "metadata": {},
   "source": [
    "![alt txt](http://p811pjpxl.bkt.clouddn.com/0.scalar.png)"
   ]
  },
  {
   "cell_type": "code",
   "execution_count": null,
   "metadata": {
    "collapsed": true
   },
   "outputs": [],
   "source": [
    "### Declaring a scalar through python built in datatypes\n",
    "a = 7"
   ]
  },
  {
   "cell_type": "code",
   "execution_count": null,
   "metadata": {
    "collapsed": true
   },
   "outputs": [],
   "source": [
    "b = \"string\""
   ]
  },
  {
   "cell_type": "code",
   "execution_count": null,
   "metadata": {
    "collapsed": false
   },
   "outputs": [],
   "source": [
    "np.isscalar(a)"
   ]
  },
  {
   "cell_type": "code",
   "execution_count": null,
   "metadata": {
    "collapsed": false
   },
   "outputs": [],
   "source": [
    "# 判断b是否为标量\n",
    "# 正确输出：True\n",
    "np._________"
   ]
  },
  {
   "cell_type": "markdown",
   "metadata": {},
   "source": [
    "## 1.2 向量(Vector)\n",
    "A vector is a one-dimensional array of length n. n represents the number of scalar components.\n",
    "\n",
    "向量是一个长度为n的一维数组，n代表标量成分的数目。\n",
    "\n",
    "Notation: $\\boldsymbol a$ - a vector"
   ]
  },
  {
   "cell_type": "markdown",
   "metadata": {},
   "source": [
    "![alt txt](http://p811pjpxl.bkt.clouddn.com/0.vector.png)"
   ]
  },
  {
   "cell_type": "code",
   "execution_count": null,
   "metadata": {
    "collapsed": true
   },
   "outputs": [],
   "source": [
    "# 使用Python内置数据类型(列表)创建一个向量/1维数组\n",
    "v1 = [1,2,3,4,5]"
   ]
  },
  {
   "cell_type": "code",
   "execution_count": null,
   "metadata": {
    "collapsed": false
   },
   "outputs": [],
   "source": [
    "print(v1)"
   ]
  },
  {
   "cell_type": "code",
   "execution_count": null,
   "metadata": {
    "collapsed": false
   },
   "outputs": [],
   "source": [
    "print(\"The vector v1 is of n={} dimension\".format(len(v1)))"
   ]
  },
  {
   "cell_type": "code",
   "execution_count": null,
   "metadata": {
    "collapsed": false
   },
   "outputs": [],
   "source": [
    "# 使用Numpy(随机数)创建一个向量\n",
    "v2 = np.random.randn(1,5)\n",
    "print(v2)"
   ]
  },
  {
   "cell_type": "code",
   "execution_count": null,
   "metadata": {
    "codeCollapsed": false,
    "collapsed": false,
    "hiddenCell": false
   },
   "outputs": [],
   "source": [
    "# 在Numpy/Pandas/TensorFlow等库中，使用shape属性来获取维度信息\n",
    "v2.shape"
   ]
  },
  {
   "cell_type": "code",
   "execution_count": null,
   "metadata": {
    "collapsed": false
   },
   "outputs": [],
   "source": [
    "# 正确输出： The vector v2 is of 1 by 5 dimension\n",
    "print(\"The vector v2 is of {} by {} dimension\".format(v2.shape[0], v2._____))"
   ]
  },
  {
   "cell_type": "code",
   "execution_count": null,
   "metadata": {
    "collapsed": false
   },
   "outputs": [],
   "source": [
    "# 使用Numpy(固定值)创建一个向量\n",
    "v3 = np.array([[1,2,3,4,5]])\n",
    "print(v3)"
   ]
  },
  {
   "cell_type": "code",
   "execution_count": null,
   "metadata": {
    "collapsed": false
   },
   "outputs": [],
   "source": [
    "# 正确输出：(1, 5)\n",
    "v3._____"
   ]
  },
  {
   "cell_type": "code",
   "execution_count": null,
   "metadata": {
    "collapsed": false
   },
   "outputs": [],
   "source": [
    "print(\"The vector v3 is of {} by {} dimension\".format(v3.______, v3._______))"
   ]
  },
  {
   "cell_type": "markdown",
   "metadata": {},
   "source": [
    "![alt txt](http://p811pjpxl.bkt.clouddn.com/0.3rdscalar.png)"
   ]
  },
  {
   "cell_type": "code",
   "execution_count": null,
   "metadata": {
    "collapsed": false
   },
   "outputs": [],
   "source": [
    "# 获取指定位置的元素(经典方式) - 这是一个标量\n",
    "position = 3\n",
    "print(\"The element in position {} of vector v1 is {}\".format(position, v1[position-1]))"
   ]
  },
  {
   "cell_type": "code",
   "execution_count": null,
   "metadata": {
    "collapsed": false
   },
   "outputs": [],
   "source": [
    "# 获取指定位置的元素(numpy方式) - 这是一个标量\n",
    "position = 3\n",
    "print(\"The element in position {} of vector v2 is {}\".format(position, v2[:,position-1]))"
   ]
  },
  {
   "cell_type": "code",
   "execution_count": null,
   "metadata": {
    "collapsed": false
   },
   "outputs": [],
   "source": [
    "print(v2)"
   ]
  },
  {
   "cell_type": "code",
   "execution_count": null,
   "metadata": {
    "collapsed": false
   },
   "outputs": [],
   "source": [
    "# 获取指定位置的元素(numpy方式) - 这是一个标量\n",
    "# 正确输出：The element in position 3 of vector v3 is [3]\n",
    "position = 3\n",
    "print(\"The element in position {} of vector v3 is {}\".format(position, v3[:,_________]))"
   ]
  },
  {
   "cell_type": "markdown",
   "metadata": {},
   "source": [
    "---"
   ]
  },
  {
   "cell_type": "markdown",
   "metadata": {},
   "source": [
    "## 1.3 矩阵(Matrix)\n",
    "A matrix is a 2-D array of numbers. A matrix is also made up of scalars and vectors. \n",
    "\n",
    "矩阵是一个二维数组，同样矩阵也是由标量和向量所组成。\n",
    "\n",
    "Notation: $\\boldsymbol A$ - a matrix A with $m$ rows, $n$ columns, where $\\boldsymbol A=\\mathbb R^{m\\times n}$."
   ]
  },
  {
   "cell_type": "markdown",
   "metadata": {},
   "source": [
    "![alt txt](http://p811pjpxl.bkt.clouddn.com/0.matrix.png)"
   ]
  },
  {
   "cell_type": "markdown",
   "metadata": {},
   "source": [
    "### 1.3.1 创建矩阵"
   ]
  },
  {
   "cell_type": "code",
   "execution_count": null,
   "metadata": {
    "collapsed": false
   },
   "outputs": [],
   "source": [
    "# 使用Python内置数据类型(列表)创建一个矩阵/2维数组\n",
    "A = [[1,2,3,4,5],\n",
    "     [6,7,8,9,10],\n",
    "     [11,12,13,14,15],\n",
    "     [16,17,18,19,20], \n",
    "     [21,22,23,24,25]]\n",
    "print(A)"
   ]
  },
  {
   "cell_type": "code",
   "execution_count": null,
   "metadata": {
    "collapsed": false
   },
   "outputs": [],
   "source": [
    "print(\"The matrix A has a dimension of {} by {}\".format(len(A), len(A[0])))"
   ]
  },
  {
   "cell_type": "code",
   "execution_count": null,
   "metadata": {
    "collapsed": false
   },
   "outputs": [],
   "source": [
    "# 使用numpy创建一个2维数组\n",
    "B = np.array([[1,2,3,4,5],\n",
    "     [6,7,8,9,10],\n",
    "     [11,12,13,14,15],\n",
    "     [16,17,18,19,20], \n",
    "     [21,22,23,24,25]])\n",
    "print(B)"
   ]
  },
  {
   "cell_type": "code",
   "execution_count": null,
   "metadata": {
    "collapsed": false
   },
   "outputs": [],
   "source": [
    "B.shape"
   ]
  },
  {
   "cell_type": "code",
   "execution_count": null,
   "metadata": {
    "collapsed": false
   },
   "outputs": [],
   "source": [
    "# 正确输出：The matrix B has a dimenion of 5 by 5\n",
    "print(\"The matrix B has a dimenion of {} by {}\".format(B.___, ______))"
   ]
  },
  {
   "cell_type": "code",
   "execution_count": null,
   "metadata": {
    "collapsed": false
   },
   "outputs": [],
   "source": [
    "B = np.random.randn(5,5)\n",
    "print(B)"
   ]
  },
  {
   "cell_type": "code",
   "execution_count": null,
   "metadata": {
    "collapsed": false
   },
   "outputs": [],
   "source": [
    "# 正确输出：(5, 5)\n",
    "B._____"
   ]
  },
  {
   "cell_type": "code",
   "execution_count": null,
   "metadata": {
    "collapsed": false
   },
   "outputs": [],
   "source": [
    "# 正确输出：The matrix B has a dimenion of 5 by 5\n",
    "print(\"The matrix B has a dimenion of {} by {}\"._________)"
   ]
  },
  {
   "cell_type": "markdown",
   "metadata": {},
   "source": [
    "### 1.3.2 获取指定位置元素"
   ]
  },
  {
   "cell_type": "markdown",
   "metadata": {},
   "source": [
    "![alt txt](http://p811pjpxl.bkt.clouddn.com/0.3rdrow3rdcolumn.png)"
   ]
  },
  {
   "cell_type": "code",
   "execution_count": null,
   "metadata": {
    "collapsed": true
   },
   "outputs": [],
   "source": [
    "row_index = 3\n",
    "col_index = 3"
   ]
  },
  {
   "cell_type": "code",
   "execution_count": null,
   "metadata": {
    "collapsed": false
   },
   "outputs": [],
   "source": [
    "print(A)"
   ]
  },
  {
   "cell_type": "code",
   "execution_count": null,
   "metadata": {
    "collapsed": false
   },
   "outputs": [],
   "source": [
    "# 获取指定位置元素 (经典方式)\n",
    "# 正确输出：13\n",
    "print(A[____][_____])"
   ]
  },
  {
   "cell_type": "code",
   "execution_count": null,
   "metadata": {
    "collapsed": false
   },
   "outputs": [],
   "source": [
    "print(B)"
   ]
  },
  {
   "cell_type": "code",
   "execution_count": null,
   "metadata": {
    "collapsed": false
   },
   "outputs": [],
   "source": [
    "# 获取指定位置元素 (numpy方式)\n",
    "print(B[___][___])"
   ]
  },
  {
   "cell_type": "markdown",
   "metadata": {},
   "source": [
    "### 1.3.3 获取指定列"
   ]
  },
  {
   "cell_type": "markdown",
   "metadata": {},
   "source": [
    "![alt txt](http://p811pjpxl.bkt.clouddn.com/0.3rdcolumn.png)"
   ]
  },
  {
   "cell_type": "code",
   "execution_count": null,
   "metadata": {
    "collapsed": false
   },
   "outputs": [],
   "source": [
    "print(A)"
   ]
  },
  {
   "cell_type": "code",
   "execution_count": null,
   "metadata": {
    "collapsed": false
   },
   "outputs": [],
   "source": [
    "# 打印二维数组的第3列 (经典方式)\n",
    "position = 3\n",
    "for i in range(len(A)): # [0, 1, 2, 3, 4]\n",
    "    for j in range(len(A[0])): # [0, 1, 2, 3, 4]\n",
    "        if j == (position-1):\n",
    "            print(A[i][j])"
   ]
  },
  {
   "cell_type": "code",
   "execution_count": null,
   "metadata": {
    "collapsed": false
   },
   "outputs": [],
   "source": [
    "print(B)"
   ]
  },
  {
   "cell_type": "code",
   "execution_count": null,
   "metadata": {
    "collapsed": false
   },
   "outputs": [],
   "source": [
    "# 打印二维数组的第3列 (numpy方式)\n",
    "position = 3\n",
    "print(B[:, (position-1)])"
   ]
  },
  {
   "cell_type": "markdown",
   "metadata": {},
   "source": [
    "**练习:** 分别采用经典方式(数组A)和numpy方式(数组B)，打印输出第2列和第3列。"
   ]
  },
  {
   "cell_type": "code",
   "execution_count": null,
   "metadata": {
    "collapsed": true
   },
   "outputs": [],
   "source": [
    "# 补充你的代码......"
   ]
  },
  {
   "cell_type": "markdown",
   "metadata": {},
   "source": [
    "### 1.3.4 获取指定行"
   ]
  },
  {
   "cell_type": "markdown",
   "metadata": {},
   "source": [
    "![alt txt](http://p811pjpxl.bkt.clouddn.com/0.4throw.png)"
   ]
  },
  {
   "cell_type": "code",
   "execution_count": null,
   "metadata": {
    "collapsed": false
   },
   "outputs": [],
   "source": [
    "print(A)"
   ]
  },
  {
   "cell_type": "code",
   "execution_count": null,
   "metadata": {
    "collapsed": false
   },
   "outputs": [],
   "source": [
    "# 打印第4行 (经典方式)\n",
    "# 正确输出: [16, 17, 18, 19, 20]\n",
    "print(A___)"
   ]
  },
  {
   "cell_type": "code",
   "execution_count": null,
   "metadata": {
    "collapsed": false
   },
   "outputs": [],
   "source": [
    "print(B)"
   ]
  },
  {
   "cell_type": "code",
   "execution_count": null,
   "metadata": {
    "collapsed": false
   },
   "outputs": [],
   "source": [
    "# 打印第4行 (numpy)\n",
    "position = 4\n",
    "print(B[ ____, : ])"
   ]
  },
  {
   "cell_type": "markdown",
   "metadata": {},
   "source": [
    "**练习:** 分别采用经典方式(数组A)和numpy方式(数组B)，打印输出第3行和第4行。"
   ]
  },
  {
   "cell_type": "code",
   "execution_count": null,
   "metadata": {
    "collapsed": false
   },
   "outputs": [],
   "source": [
    "# 补充你的代码......"
   ]
  },
  {
   "cell_type": "markdown",
   "metadata": {},
   "source": [
    "### 1.3.5 挑战"
   ]
  },
  {
   "cell_type": "markdown",
   "metadata": {},
   "source": [
    "![alt txt](http://p811pjpxl.bkt.clouddn.com/0.highlightedarea.png)"
   ]
  },
  {
   "cell_type": "markdown",
   "metadata": {},
   "source": [
    "**练习:** 分别采用经典方式(数组A)和numpy方式(数组B)，获取数组中指定区域的元素。"
   ]
  },
  {
   "cell_type": "code",
   "execution_count": null,
   "metadata": {
    "collapsed": true
   },
   "outputs": [],
   "source": [
    "# 补充你的代码......"
   ]
  },
  {
   "cell_type": "markdown",
   "metadata": {},
   "source": [
    "---"
   ]
  },
  {
   "cell_type": "markdown",
   "metadata": {},
   "source": [
    "## 1.4 张量(tensor)\n",
    "A tensor is just a generalization of vectors and matrices.\n",
    "\n",
    "张量是向量和矩阵的泛化。\n",
    "\n",
    "Notation: $\\mathsf A$ - a tensor"
   ]
  },
  {
   "cell_type": "markdown",
   "metadata": {},
   "source": [
    "![alt txt](http://p811pjpxl.bkt.clouddn.com/0.3dtensor.png)"
   ]
  },
  {
   "cell_type": "code",
   "execution_count": null,
   "metadata": {
    "collapsed": false
   },
   "outputs": [],
   "source": [
    "# 构建一个3维的张量 (传统方式)\n",
    "C = [[[1,2,3,4,5], # begining of 1st matrix\n",
    "     [6,7,8,9,10],\n",
    "     [11,12,13,14,15],\n",
    "     [16,17,18,19,20], \n",
    "     [21,22,23,24,25]],\n",
    "     [[26,27,28,29,30], # beginning of 2nd matrix\n",
    "     [31,32,33,34,35],\n",
    "     [36,37,38,39,40],\n",
    "     [41,42,43,44,45], \n",
    "     [46,47,48,49,50]],\n",
    "     [[51,52,53,54,55], # beginning of 3rd matrix\n",
    "     [56,57,58,59,60],\n",
    "     [61,62,63,64,65],\n",
    "     [66,67,68,69,70], \n",
    "     [71,72,73,74,75]],\n",
    "     [[76,77,78,79,80], # beginning of 4th matrix\n",
    "     [81,82,83,84,85],\n",
    "     [86,87,88,89,90],\n",
    "     [91,92,93,94,95], \n",
    "     [96,97,98,99,100]],\n",
    "     [[101,102,103,104,105], # beginning of 5th matrix\n",
    "     [106,107,108,109,110],\n",
    "     [111,112,113,114,115],\n",
    "     [116,117,118,119,120], \n",
    "     [121,122,123,124,125]]]\n",
    "print(C)"
   ]
  },
  {
   "cell_type": "code",
   "execution_count": null,
   "metadata": {
    "collapsed": false
   },
   "outputs": [],
   "source": [
    "print(\"The tensor C has a dimension of {} by {} by {}\".format(len(C), len(C[0]), len(C[1])))"
   ]
  },
  {
   "cell_type": "code",
   "execution_count": null,
   "metadata": {
    "collapsed": false
   },
   "outputs": [],
   "source": [
    "# 构建一个3维的张量 (numpy方式)\n",
    "D = np.array([[[1,2,3,4,5], # begining of 1st matrix\n",
    "     [6,7,8,9,10],\n",
    "     [11,12,13,14,15],\n",
    "     [16,17,18,19,20], \n",
    "     [21,22,23,24,25]],\n",
    "     [[26,27,28,29,30], # beginning of 2nd matrix\n",
    "     [31,32,33,34,35],\n",
    "     [36,37,38,39,40],\n",
    "     [41,42,43,44,45], \n",
    "     [46,47,48,49,50]],\n",
    "     [[51,52,53,54,55], # beginning of 3rd matrix\n",
    "     [56,57,58,59,60],\n",
    "     [61,62,63,64,65],\n",
    "     [66,67,68,69,70], \n",
    "     [71,72,73,74,75]],\n",
    "     [[76,77,78,79,80], # beginning of 4th matrix\n",
    "     [81,82,83,84,85],\n",
    "     [86,87,88,89,90],\n",
    "     [91,92,93,94,95], \n",
    "     [96,97,98,99,100]],\n",
    "     [[101,102,103,104,105], # beginning of 5th matrix\n",
    "     [106,107,108,109,110],\n",
    "     [111,112,113,114,115],\n",
    "     [116,117,118,119,120], \n",
    "     [121,122,123,124,125]]])\n",
    "print(D)"
   ]
  },
  {
   "cell_type": "code",
   "execution_count": null,
   "metadata": {
    "collapsed": false
   },
   "outputs": [],
   "source": [
    "D.shape"
   ]
  },
  {
   "cell_type": "code",
   "execution_count": null,
   "metadata": {
    "collapsed": false
   },
   "outputs": [],
   "source": [
    "# 正确输出：The tensor D has a dimension of 5 by 5 by 5\n",
    "print(\"The tensor D has a dimension of {} by {} by {}\".format(D.___, D.____, ____))"
   ]
  },
  {
   "cell_type": "markdown",
   "metadata": {},
   "source": [
    "![alt txt](http://p811pjpxl.bkt.clouddn.com/0.matrixfromtensor2.png)"
   ]
  },
  {
   "cell_type": "code",
   "execution_count": null,
   "metadata": {
    "collapsed": false
   },
   "outputs": [],
   "source": [
    "print(D)"
   ]
  },
  {
   "cell_type": "code",
   "execution_count": null,
   "metadata": {
    "collapsed": false
   },
   "outputs": [],
   "source": [
    "D[2 , 0 , 2]"
   ]
  },
  {
   "cell_type": "markdown",
   "metadata": {},
   "source": [
    "![alt txt](http://p811pjpxl.bkt.clouddn.com/0.matrixfromtensor.png)"
   ]
  },
  {
   "cell_type": "code",
   "execution_count": null,
   "metadata": {
    "collapsed": false
   },
   "outputs": [],
   "source": [
    "print(D)"
   ]
  },
  {
   "cell_type": "code",
   "execution_count": null,
   "metadata": {
    "collapsed": false
   },
   "outputs": [],
   "source": [
    "# 从3维张量中获取指定的矩阵\n",
    "D[ 3, : , :]"
   ]
  },
  {
   "cell_type": "markdown",
   "metadata": {},
   "source": [
    "![alt txt](http://p811pjpxl.bkt.clouddn.com/0.matrixfromtensor1.png)"
   ]
  },
  {
   "cell_type": "code",
   "execution_count": null,
   "metadata": {
    "collapsed": false
   },
   "outputs": [],
   "source": [
    "print(D)"
   ]
  },
  {
   "cell_type": "code",
   "execution_count": null,
   "metadata": {
    "collapsed": false
   },
   "outputs": [],
   "source": [
    "D[:, 1, 4]"
   ]
  },
  {
   "cell_type": "markdown",
   "metadata": {},
   "source": [
    "![alt txt](http://p811pjpxl.bkt.clouddn.com/0.matrixfromtensor3.png)"
   ]
  },
  {
   "cell_type": "markdown",
   "metadata": {},
   "source": [
    "**练习:**  从tensor D中获取上图中指定的列(黄色部分)"
   ]
  },
  {
   "cell_type": "code",
   "execution_count": null,
   "metadata": {
    "collapsed": true
   },
   "outputs": [],
   "source": [
    "# 补充你的代码......"
   ]
  },
  {
   "cell_type": "markdown",
   "metadata": {},
   "source": [
    "# 参考\n",
    "1：https://github.com/omarsar/friendly_data_science/tree/master/1_What_is_a_tensor"
   ]
  }
 ],
 "metadata": {
  "kernelspec": {
   "display_name": "Python 3",
   "language": "python",
   "name": "python3"
  },
  "language_info": {
   "codemirror_mode": {
    "name": "ipython",
    "version": 3
   },
   "file_extension": ".py",
   "mimetype": "text/x-python",
   "name": "python",
   "nbconvert_exporter": "python",
   "pygments_lexer": "ipython3",
   "version": "3.5.2"
  }
 },
 "nbformat": 4,
 "nbformat_minor": 2
}
