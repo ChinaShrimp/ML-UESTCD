{
 "cells": [
  {
   "cell_type": "markdown",
   "metadata": {},
   "source": [
    "# 1 TensorBoard\n",
    "TensorFlow 可用于训练大规模深度神经网络所需的计算，使用该工具涉及的计算往往复杂而深奥。为了更方便 TensorFlow 程序的理解、调试与优化，谷歌发布了一套名为 TensorBoard 的可视化工具。您可以用 TensorBoard 来展现 TensorFlow 图，绘制图像生成的定量指标图以及显示附加数据（如其中传递的图像）。"
   ]
  },
  {
   "attachments": {},
   "cell_type": "markdown",
   "metadata": {},
   "source": [
    "## 1.1 启动TensorBoard\n",
    "1. 登陆虚拟机，以下命令均在虚拟机内执行\n",
    "2. 停止并删除当前实验环境\n",
    "```\n",
    "docker stop datalab\n",
    "docker rm datalab\n",
    "```\n",
    "3. 重新启动datalab,相比较以前的命令而言，增加了一个新的端口映射6006。\n",
    "```\n",
    "docker run -itd -p \"0.0.0.0:8081:8080\" -p \"0.0.0.0:6006:6006\" -v \"${HOME}:/content\" \\\n",
    "    --restart=always --name=datalab  \\\n",
    "    registry.cn-hangzhou.aliyuncs.com/oedu/datalab:local-20180214\n",
    "```\n",
    "4. 进入datalab容器shell环境，并启动TensorBoard (**后续每次要运行TensorBoard都需要执行该步骤**)\n",
    "```\n",
    "docker exec -it datalab /bin/sh\n",
    "tensorboard -logdir /content\n",
    "```\n",
    "5. 在虚拟机软件中添加端口映射，将主机6007端口映射到虚拟机的6006端口\n",
    "\n",
    "![image.png](http://p811pjpxl.bkt.clouddn.com/14-1.png)"
   ]
  },
  {
   "attachments": {},
   "cell_type": "markdown",
   "metadata": {},
   "source": [
    "设置完毕后，在浏览器可以访问tensorboard，效果如下图所示：\n",
    "![image.png](http://p811pjpxl.bkt.clouddn.com/14-2.png)"
   ]
  },
  {
   "cell_type": "markdown",
   "metadata": {},
   "source": [
    "## 1.2 小试牛刀"
   ]
  },
  {
   "cell_type": "code",
   "execution_count": 6,
   "metadata": {},
   "outputs": [],
   "source": [
    "import tensorflow as tf\n",
    "\n",
    "def add_layer(inputs, in_size, out_size, activation_function=None):\n",
    "    # add one more layer and return the output of this layer\n",
    "    Weights = tf.Variable(tf.random_normal([in_size, out_size]), name='W')\n",
    "    biases = tf.Variable(tf.zeros([1, out_size]) + 0.1, name='b')\n",
    "    Wx_plus_b = tf.add(tf.matmul(inputs, Weights), biases)\n",
    "    if activation_function is None:\n",
    "        outputs = Wx_plus_b\n",
    "    else:\n",
    "        outputs = activation_function(Wx_plus_b, )\n",
    "    \n",
    "    return outputs\n",
    "\n",
    "\n",
    "# define placeholder for inputs to network\n",
    "xs = tf.placeholder(tf.float32, [None, 1], name='x_input')\n",
    "ys = tf.placeholder(tf.float32, [None, 1], name='y_input')\n",
    "\n",
    "# add hidden layer\n",
    "l1 = add_layer(xs, 1, 10, activation_function=tf.nn.relu)\n",
    "\n",
    "# add output layer\n",
    "prediction = add_layer(l1, 10, 1, activation_function=None)\n",
    "\n",
    "# the error between prediciton and real data\n",
    "loss = tf.reduce_mean(tf.reduce_sum(tf.square(ys - prediction),\n",
    "                                        reduction_indices=[1]))\n",
    "\n",
    "train_step = tf.train.GradientDescentOptimizer(0.1).minimize(loss)\n",
    "\n",
    "with tf.Session() as sess:\n",
    "    # 将当前会话中的计算图保存\n",
    "    writer = tf.summary.FileWriter(\"logs/\", sess.graph)\n",
    "\n",
    "    init = tf.global_variables_initializer()\n",
    "    sess.run(init)"
   ]
  },
  {
   "attachments": {},
   "cell_type": "markdown",
   "metadata": {},
   "source": [
    "运行上述代码，通过浏览器访问http://localhost:6007 \n",
    "可以发现TensorBoard中显示了我们代码对应的计算图，以及计算图中的节点。\n",
    "![image.png](http://p811pjpxl.bkt.clouddn.com/14-3.png)"
   ]
  },
  {
   "cell_type": "markdown",
   "metadata": {},
   "source": [
    "## 1.3 变量命名空间"
   ]
  },
  {
   "cell_type": "code",
   "execution_count": 7,
   "metadata": {},
   "outputs": [
    {
     "name": "stdout",
     "output_type": "stream",
     "text": [
      "<tf.Variable 'a:0' shape=(10,) dtype=float32_ref>\n",
      "<tf.Variable 'test/a:0' shape=(10,) dtype=float32_ref>\n"
     ]
    }
   ],
   "source": [
    "a = tf.Variable(tf.zeros([10]), name='a')\n",
    "print(a)\n",
    "\n",
    "with tf.name_scope('test'):\n",
    "    a1 = tf.Variable(tf.zeros([10]), name='a')\n",
    "\n",
    "print(a1)"
   ]
  },
  {
   "attachments": {},
   "cell_type": "markdown",
   "metadata": {},
   "source": [
    "使用命名空间不仅可以更好的管理变量，还可以优化TensorBoard的显示：\n",
    "![image.png](http://p811pjpxl.bkt.clouddn.com/14-4.png)"
   ]
  },
  {
   "attachments": {},
   "cell_type": "markdown",
   "metadata": {},
   "source": [
    "练习：将1.2中的代码对应的变量放入指定的命名空间，具体要求如下(粗体为变量名，其他为命名空间名字，缩进代表命名空间层次)：\n",
    "\n",
    "- layer\n",
    "    - weights\n",
    "        - **Weights**\n",
    "    - biases\n",
    "        - **biases**\n",
    "    - Wx_plus_b\n",
    "        - **Wx_plus_b**\n",
    "\n",
    "- inputs\n",
    "    - **xs**\n",
    "    - **ys**\n",
    "    \n",
    "- loss\n",
    "    - **loss**\n",
    "    \n",
    "- train\n",
    "    - **train_step**\n",
    "    \n",
    "运行成功后，在TensorBoard中看到的结果如下图所示：\n",
    "![image.png](http://p811pjpxl.bkt.clouddn.com/14-5.png)"
   ]
  },
  {
   "cell_type": "code",
   "execution_count": 2,
   "metadata": {},
   "outputs": [],
   "source": [
    "# 练习代码......"
   ]
  },
  {
   "cell_type": "markdown",
   "metadata": {},
   "source": [
    "## 1.4 计算图(tf.Graph)"
   ]
  },
  {
   "attachments": {},
   "cell_type": "markdown",
   "metadata": {},
   "source": [
    "\n",
    "**如果将1.3中的代码执行多遍，刷新TensorBoard界面，你可能会看到这样的显示，为什么呢？**\n",
    "![image.png](http://p811pjpxl.bkt.clouddn.com/14-6.png)"
   ]
  },
  {
   "cell_type": "markdown",
   "metadata": {},
   "source": [
    "计算图是排列成一个图的一系列 TensorFlow 指令。图由两种类型的对象组成。\n",
    "- 指令（或“op\"）：图的节点。 指令说明的是消耗和生成张量的计算。\n",
    "- 张量：图的边。它们代表将流经图的值。大多数 TensorFlow 函数会返回 tf.Tensors。\n",
    "\n",
    "![计算图](https://www.safaribooksonline.com/library/view/learning-tensorflow/9781491978504/assets/letf_0304.png)\n",
    "\n",
    "\n",
    "\n",
    "关于计算图的详细介绍，请参考：https://www.tensorflow.org/programmers_guide/graphs?hl=zh-cn"
   ]
  },
  {
   "cell_type": "code",
   "execution_count": 5,
   "metadata": {},
   "outputs": [
    {
     "name": "stdout",
     "output_type": "stream",
     "text": [
      "Tensor(\"Const_2:0\", shape=(), dtype=int32)\n",
      "<tensorflow.python.framework.ops.Graph object at 0x10c282438>\n",
      "<tensorflow.python.framework.ops.Graph object at 0x10c282438>\n",
      "Tensor(\"Const:0\", shape=(), dtype=int32)\n",
      "<tensorflow.python.framework.ops.Graph object at 0x11cbd76d8>\n",
      "<tensorflow.python.framework.ops.Graph object at 0x11cbd76d8>\n",
      "<tensorflow.python.framework.ops.Graph object at 0x10c282438>\n"
     ]
    }
   ],
   "source": [
    "a = tf.constant(5) \n",
    "print(a)\n",
    "print(a.graph)\n",
    "print(tf.get_default_graph())\n",
    "\n",
    "with tf.Graph().as_default() as g:\n",
    "    b = tf.constant(2)\n",
    "    print(b)\n",
    "    print(b.graph)\n",
    "    print(g)\n",
    "    \n",
    "print(tf.get_default_graph())"
   ]
  },
  {
   "cell_type": "markdown",
   "metadata": {},
   "source": [
    "练习：使用`tf.Graph()`创建一个新的计算图，将1.3的代码所有的TensorFlow节点都放入到该计算图中，多次执行相关代码后在TensorBoard不会出现多张图的情形。"
   ]
  },
  {
   "cell_type": "code",
   "execution_count": 2,
   "metadata": {},
   "outputs": [],
   "source": [
    "# 练习代码......"
   ]
  },
  {
   "cell_type": "markdown",
   "metadata": {},
   "source": [
    "# 2. FFNN"
   ]
  },
  {
   "cell_type": "code",
   "execution_count": 3,
   "metadata": {},
   "outputs": [
    {
     "name": "stdout",
     "output_type": "stream",
     "text": [
      "WARNING:tensorflow:From <ipython-input-3-64c5a6c071e0>:5: read_data_sets (from tensorflow.contrib.learn.python.learn.datasets.mnist) is deprecated and will be removed in a future version.\n",
      "Instructions for updating:\n",
      "Please use alternatives such as official/mnist/dataset.py from tensorflow/models.\n",
      "WARNING:tensorflow:From /Users/lyon/.pyenv/versions/3.6.4/envs/scikit-learn/lib/python3.6/site-packages/tensorflow/contrib/learn/python/learn/datasets/mnist.py:260: maybe_download (from tensorflow.contrib.learn.python.learn.datasets.base) is deprecated and will be removed in a future version.\n",
      "Instructions for updating:\n",
      "Please write your own downloading logic.\n",
      "WARNING:tensorflow:From /Users/lyon/.pyenv/versions/3.6.4/envs/scikit-learn/lib/python3.6/site-packages/tensorflow/contrib/learn/python/learn/datasets/mnist.py:262: extract_images (from tensorflow.contrib.learn.python.learn.datasets.mnist) is deprecated and will be removed in a future version.\n",
      "Instructions for updating:\n",
      "Please use tf.data to implement this functionality.\n",
      "Extracting MNIST_data/train-images-idx3-ubyte.gz\n",
      "WARNING:tensorflow:From /Users/lyon/.pyenv/versions/3.6.4/envs/scikit-learn/lib/python3.6/site-packages/tensorflow/contrib/learn/python/learn/datasets/mnist.py:267: extract_labels (from tensorflow.contrib.learn.python.learn.datasets.mnist) is deprecated and will be removed in a future version.\n",
      "Instructions for updating:\n",
      "Please use tf.data to implement this functionality.\n",
      "Extracting MNIST_data/train-labels-idx1-ubyte.gz\n",
      "WARNING:tensorflow:From /Users/lyon/.pyenv/versions/3.6.4/envs/scikit-learn/lib/python3.6/site-packages/tensorflow/contrib/learn/python/learn/datasets/mnist.py:110: dense_to_one_hot (from tensorflow.contrib.learn.python.learn.datasets.mnist) is deprecated and will be removed in a future version.\n",
      "Instructions for updating:\n",
      "Please use tf.one_hot on tensors.\n",
      "Extracting MNIST_data/t10k-images-idx3-ubyte.gz\n",
      "Extracting MNIST_data/t10k-labels-idx1-ubyte.gz\n",
      "WARNING:tensorflow:From /Users/lyon/.pyenv/versions/3.6.4/envs/scikit-learn/lib/python3.6/site-packages/tensorflow/contrib/learn/python/learn/datasets/mnist.py:290: DataSet.__init__ (from tensorflow.contrib.learn.python.learn.datasets.mnist) is deprecated and will be removed in a future version.\n",
      "Instructions for updating:\n",
      "Please use alternatives such as official/mnist/dataset.py from tensorflow/models.\n",
      "0.0982\n",
      "0.1009\n",
      "0.1135\n",
      "0.1028\n",
      "0.1009\n",
      "0.1177\n",
      "0.1965\n",
      "0.1596\n",
      "0.2489\n",
      "0.2659\n"
     ]
    }
   ],
   "source": [
    "import tensorflow as tf\n",
    "from tensorflow.examples.tutorials.mnist import input_data\n",
    "\n",
    "# 导入数据\n",
    "mnist = input_data.read_data_sets(\"MNIST_data/\", one_hot=True)\n",
    "\n",
    "# 构建计算图\n",
    "sess = tf.InteractiveSession()\n",
    "\n",
    "X = tf.placeholder(tf.float32, [None, 784], name=\"X\")\n",
    "\n",
    "# L1：200个神经元\n",
    "W1 = tf.Variable(tf.truncated_normal([784, 200], stddev=0.1))\n",
    "B1 = tf.Variable(tf.zeros([200]))\n",
    "Y1 = tf.nn.sigmoid(tf.matmul(X, W1)+B1)\n",
    "\n",
    "# L2：100个神经元\n",
    "W2 = tf.Variable(tf.truncated_normal([200, 100], stddev=0.1))\n",
    "B2 = tf.Variable(tf.zeros([100]))\n",
    "Y2 = tf.nn.sigmoid(tf.matmul(Y1, W2)+B2)\n",
    "\n",
    "# L3: 60个神经元\n",
    "W3 = tf.Variable(tf.truncated_normal([100, 60], stddev=0.1))\n",
    "B3 = tf.Variable(tf.zeros([60]))\n",
    "Y3 = tf.nn.sigmoid(tf.matmul(Y2, W3)+B3)\n",
    "\n",
    "# L4: 30个神经元\n",
    "W4 = tf.Variable(tf.truncated_normal([60, 30], stddev=0.1))\n",
    "B4 = tf.Variable(tf.zeros([30]))\n",
    "Y4 = tf.nn.sigmoid(tf.matmul(Y3, W4)+B4)\n",
    "\n",
    "# L5: 10个神经元\n",
    "W5 = tf.Variable(tf.truncated_normal([30, 10], stddev=0.1))\n",
    "B5 = tf.Variable(tf.ones([10]))\n",
    "Ylogits = tf.matmul(Y4, W5) + B5\n",
    "\n",
    "# Output\n",
    "Y = tf.nn.softmax(Ylogits)\n",
    "\n",
    "# Y_: 标签\n",
    "Y_ = tf.placeholder(tf.float32, [None, 10])\n",
    "\n",
    "# 损失函数\n",
    "cross_entropy = tf.reduce_mean(-tf.reduce_sum(Y_ * tf.log(Y), reduction_indices=[1]))\n",
    "\n",
    "# 优化算法\n",
    "train_step = tf.train.GradientDescentOptimizer(0.5).minimize(cross_entropy)\n",
    "\n",
    "\n",
    "tf.global_variables_initializer().run()\n",
    "\n",
    "for i in range(1000):\n",
    "    batch_xs, batch_ys = mnist.train.next_batch(100)\n",
    "    _ = sess.run([train_step], feed_dict={X: batch_xs, Y_: batch_ys})\n",
    "\n",
    "    if i%100 == 0:\n",
    "        # 计算准确率\n",
    "        correct_prediction = tf.equal(tf.argmax(Y, 1), tf.argmax(Y_, 1))\n",
    "        accuracy = tf.reduce_mean(tf.cast(correct_prediction, tf.float32))\n",
    "        print(accuracy.eval({X: mnist.test.images, Y_: mnist.test.labels}))\n",
    "        \n",
    "sess.close()"
   ]
  },
  {
   "cell_type": "markdown",
   "metadata": {},
   "source": [
    "## 2.2 重构"
   ]
  },
  {
   "attachments": {},
   "cell_type": "markdown",
   "metadata": {},
   "source": [
    "练习：上述代码中在定义隐藏层时存在大量重复代码，\n",
    "1. 请使用1.2中的`add_layer`函数重构2.1中的代码;\n",
    "2. 使用命名空间，将相应的代码加入到指定的命名空间;    \n",
    "3. 使用`tf.Graph()`，将所有的代码加入到新创建的计算图中；\n",
    "4. 将对应的计算图输出，通过TensorBoard显示；\n",
    "\n",
    "命名空间如下所示：\n",
    "- input\n",
    "    - **X**\n",
    "    - **Y_**\n",
    "- loss\n",
    "    - **cross_entropy**\n",
    "- train\n",
    "    - **train**\n",
    "    \n",
    "TensorBoard显示结果如下图所示：\n",
    "![image.png](http://p811pjpxl.bkt.clouddn.com/14-7.png)"
   ]
  },
  {
   "cell_type": "code",
   "execution_count": 6,
   "metadata": {},
   "outputs": [
    {
     "name": "stdout",
     "output_type": "stream",
     "text": [
      "Extracting MNIST_data/train-images-idx3-ubyte.gz\n",
      "Extracting MNIST_data/train-labels-idx1-ubyte.gz\n",
      "Extracting MNIST_data/t10k-images-idx3-ubyte.gz\n",
      "Extracting MNIST_data/t10k-labels-idx1-ubyte.gz\n",
      "0.0966\n",
      "0.1028\n",
      "0.1028\n",
      "0.1029\n",
      "0.1036\n",
      "0.1161\n",
      "0.2598\n",
      "0.5097\n",
      "0.6092\n",
      "0.6578\n"
     ]
    }
   ],
   "source": [
    "##练习代码..."
   ]
  },
  {
   "attachments": {},
   "cell_type": "markdown",
   "metadata": {},
   "source": [
    "## 2.3 研究\n",
    "\n",
    "基于2.2的成果，请查阅资料在TensorBoard中将损失函数的值(`cross_entropy`)显示出来。\n",
    "\n",
    "参考：https://morvanzhou.github.io/tutorials/machine-learning/tensorflow/4-2-tensorboard2/\n",
    "\n",
    "![image.png](http://p811pjpxl.bkt.clouddn.com/14-8.png)"
   ]
  },
  {
   "cell_type": "markdown",
   "metadata": {},
   "source": [
    "# 参考\n",
    "1. https://morvanzhou.github.io/tutorials/machine-learning/tensorflow/4-1-tensorboard1/"
   ]
  }
 ],
 "metadata": {
  "kernelspec": {
   "display_name": "Python 3",
   "language": "python",
   "name": "python3"
  },
  "language_info": {
   "codemirror_mode": {
    "name": "ipython",
    "version": 3
   },
   "file_extension": ".py",
   "mimetype": "text/x-python",
   "name": "python",
   "nbconvert_exporter": "python",
   "pygments_lexer": "ipython3",
   "version": "3.6.4"
  }
 },
 "nbformat": 4,
 "nbformat_minor": 2
}
