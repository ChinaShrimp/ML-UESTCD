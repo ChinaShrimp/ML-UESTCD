{
 "cells": [
  {
   "cell_type": "markdown",
   "metadata": {},
   "source": [
    "# 1. 术语\n",
    "## 1.1 (监督式)机器学习\n",
    "机器学习系统通过学习如何组合输入信息来对从未见过的数据做出有用的预测。\n",
    "\n",
    "## 1.2 标签\n",
    "标签是我们要预测的事物，即简单线性回归中的 y 变量。标签可以是小麦未来的价格、图片中显示的动物品种、音频剪辑的含义或任何事物。\n",
    "\n",
    "## 1.3 特征(feature)\n",
    "特征是输入变量，即简单线性回归中的 x 变量。简单的机器学习项目可能会使用单个特征，而比较复杂的机器学习项目可能会使用数百万个特征，按如下方式指定：\n",
    "$${x_1, x_2, ..., x_N}$$\n",
    "\n",
    "在垃圾邮件检测器示例中，特征可能包括：\n",
    "\n",
    "- 电子邮件文本中的字词\n",
    "- 发件人的地址\n",
    "- 发送电子邮件的时段\n",
    "- 电子邮件中包含“一种奇怪的把戏”这样的短语。\n",
    "\n",
    "## 1.4 样本\n",
    "样本是指数据的特定实例：**x**。（我们采用粗体 x 表示它是一个矢量。）我们将样本分为以下两类：\n",
    "- 有标签样本\n",
    "- 无标签样本\n",
    "\n",
    "有标签样本同时包含特征和标签。即：\n",
    "```\n",
    "labeled examples: {features, label}: (x, y)\n",
    "```\n",
    "\n",
    "我们使用有标签样本来训练模型。在我们的垃圾邮件检测器示例中，有标签样本是用户明确标记为“垃圾邮件”或“非垃圾邮件”的各个电子邮件。\n",
    "\n",
    "无标签样本包含特征，但不包含标签。即：\n",
    "```\n",
    "unlabeled examples: {features, ?}: (x, ?)\n",
    "```\n",
    "\n",
    "在使用有标签样本训练了我们的模型之后，我们会使用该模型来预测无标签样本的标签。在垃圾邮件检测器示例中，无标签样本是用户尚未添加标签的新电子邮件。\n",
    "\n",
    "## 1.5 模型\n",
    "模型定义了特征与标签之间的关系。例如，垃圾邮件检测模型可能会将某些特征与“垃圾邮件”紧密联系起来。我们来重点介绍一下模型生命周期的两个阶段：\n",
    "- 训练表示创建或学习模型。也就是说，您向模型展示有标签样本，让模型逐渐学习特征与标签之间的关系。\n",
    "- 推断表示将训练后的模型应用于无标签样本。也就是说，您使用训练后的模型来做出有用的预测 (y')。例如，在推断期间，您可以针对新的无标签样本预测 medianHouseValue。\n",
    "\n",
    "\n",
    "## 1.6 回归与分类\n",
    "回归模型可预测连续值。例如，回归模型做出的预测可回答如下问题：\n",
    "- 加利福尼亚州一栋房产的价值是多少？\n",
    "- 用户点击此广告的概率是多少？\n",
    "\n",
    "分类模型可预测离散值。例如，分类模型做出的预测可回答如下问题：\n",
    "- 某个指定电子邮件是垃圾邮件还是非垃圾邮件？\n",
    "- 这是一张狗、猫还是仓鼠图片？\n",
    "\n",
    "\n",
    "# 2. sklearn线性模型\n",
    "线性模型中，目标值是由所有相关输入变量的线性组合所构成。使用数学公式表达如下，其中$\\bar{y}$为预测值，$x_1, ..., x_m$为输入变量：\n",
    "\n",
    "$$\\bar{y}(\\theta, x)=\\theta _0 + \\theta _1 x_1 + ... + \\theta _p x_m$$\n",
    "\n",
    "其中$(\\theta _0, ..., \\theta _m)$为线性模型中待确定的参数。在sklearn中，我们称$\\theta = (\\theta _1, ..., \\theta _m)$为`coef_`(系数)，$\\theta _0$为`intercept_`(截距)。\n",
    "\n",
    "在计算线性模型参数时，使用不同的方法，例如最小二乘等。\n",
    "\n",
    "## 2.1 最小二乘\n",
    "`LinearRegression`进行回归拟合时，使用的成本函数(cost function)如下所示。目标是所选取的参数$\\theta$使得下列成本函数的值最小：\n",
    "$$J(\\theta_0, \\theta_1)=\\frac{1}{m}\\sum_{i=1}^{m}(\\bar{y}_i-y_i)^2$$\n",
    "\n",
    "调用`fit()`方法拟合后，计算得到的参数$\\theta$保存在模型的`coef_`和`intercept_`中。\n",
    "\n",
    "采用最小二乘拟合时，要求所选取的特征($x_1,...,x_p$)之间互相独立，否则很容易受到随机误差的干扰。"
   ]
  },
  {
   "cell_type": "markdown",
   "metadata": {},
   "source": [
    "# 3. 线性回归-Hacker Statistic"
   ]
  },
  {
   "cell_type": "code",
   "execution_count": 37,
   "metadata": {},
   "outputs": [
    {
     "data": {
      "image/png": "[encoded data removed]",
      "text/plain": [
       "<matplotlib.figure.Figure at 0x102c69518>"
      ]
     },
     "metadata": {},
     "output_type": "display_data"
    }
   ],
   "source": [
    "import numpy as np                                                 \n",
    "import matplotlib.pyplot as plt                                    \n",
    "\n",
    "# 模拟数据\n",
    "x_train = np.array([[np.random.random()] for i in range(101)])\n",
    "# 为对应的y值加上一些噪声数据\n",
    "y_train = 2 * x_train + [[k*0.33] for k in np.random.randn(len(x_train))]\n",
    "\n",
    "# 绘制散点图\n",
    "plt.scatter(x_train, y_train, color='blue')                                      \n",
    "plt.show()                                                         "
   ]
  },
  {
   "cell_type": "code",
   "execution_count": 30,
   "metadata": {},
   "outputs": [
    {
     "data": {
      "image/png": "[encoded data removed]",
      "text/plain": [
       "<matplotlib.figure.Figure at 0x10887a438>"
      ]
     },
     "metadata": {},
     "output_type": "display_data"
    },
    {
     "name": "stdout",
     "output_type": "stream",
     "text": [
      "0.09152718639630095\n"
     ]
    }
   ],
   "source": [
    "from sklearn import linear_model\n",
    "\n",
    "model = linear_model.LinearRegression()\n",
    "model.fit(x_train, y_train)\n",
    "\n",
    "# 使用得到的模型根据x_train数据，预测得到y_prime数据\n",
    "y_prime = model.predict(x_train)\n",
    "\n",
    "# 绘制散点图\n",
    "plt.scatter(x_train, y_train, color='blue')                                      \n",
    "plt.plot(x_train, y_prime, color='red')\n",
    "plt.show()"
   ]
  },
  {
   "cell_type": "code",
   "execution_count": 36,
   "metadata": {},
   "outputs": [
    {
     "name": "stdout",
     "output_type": "stream",
     "text": [
      "5.477462247980117\n",
      "线性方程: 1.9706746041752385*x + -0.020292739463500742\n"
     ]
    }
   ],
   "source": [
    "# 计算y_prime与y_train之间的误差\n",
    "mse = np.mean((y_prime-y_train)**2)\n",
    "print(mse)\n",
    "\n",
    "print(\"线性方程: {}*x + {}\".format(model.coef_[0][0], model.intercept_[0]))"
   ]
  },
  {
   "cell_type": "markdown",
   "metadata": {},
   "source": [
    "# 练习1\n",
    "以下表格是某人统计的睡眠时间与其第二天每小时阅读速度的数据：\n",
    "\n",
    "| 睡眠时间(小时)   |  第二天阅读效率(页/小时) |\n",
    "| :-------- | --------:| \n",
    "| 8.5    |   26 | \n",
    "| 7.2    |   22 | \n",
    "| 10    |   32 | \n",
    "| 5.2    |   15 | \n",
    "| 2    |   18 | \n",
    "| 3.5    |   13 | \n",
    "| 8    |   19 | \n",
    "| 9    |   31 | \n",
    "\n",
    "使用线性回归建模，并预测睡眠时间为10.5小时，第二天的阅读效率？\n",
    "\n",
    "模型为$Y=\\omega x + b$，其中X为睡眠时间。"
   ]
  },
  {
   "cell_type": "code",
   "execution_count": 1,
   "metadata": {},
   "outputs": [],
   "source": [
    "import numpy as np\n",
    "import matplotlib.pyplot as plt\n",
    "from sklearn import linear_model"
   ]
  },
  {
   "cell_type": "markdown",
   "metadata": {},
   "source": [
    "**要求**：使用散点图绘制X和Y的数据，补充下面代码块中标记为'_____'的代码"
   ]
  },
  {
   "cell_type": "code",
   "execution_count": 20,
   "metadata": {},
   "outputs": [
    {
     "name": "stdout",
     "output_type": "stream",
     "text": [
      "[[ 8.5]\n",
      " [ 7.2]\n",
      " [10. ]\n",
      " [ 5.2]\n",
      " [ 2. ]\n",
      " [ 3.5]\n",
      " [ 8. ]\n",
      " [ 9. ]] [[26]\n",
      " [22]\n",
      " [32]\n",
      " [15]\n",
      " [18]\n",
      " [13]\n",
      " [19]\n",
      " [31]]\n"
     ]
    },
    {
     "data": {
      "image/png": "[encoded data removed]",
      "text/plain": [
       "<matplotlib.figure.Figure at 0x1124ff3c8>"
      ]
     },
     "metadata": {},
     "output_type": "display_data"
    }
   ],
   "source": [
    "dataset = [\n",
    "    [8.5, 26],\n",
    "    [7.2, 22],\n",
    "    [10, 32],\n",
    "    [5.2, 15],\n",
    "    [2, 18],\n",
    "    [3.5, 13],\n",
    "    [8, 19],\n",
    "    [9, 31]\n",
    "]\n",
    "\n",
    "# X和Y均是二维数组 (n_samples, n_features), n_samples是样本数量\n",
    "# n_features是特征数量，在本例子中特征数量为1，也即阅读速度\n",
    "X = np.array([[example[0]] for example in dataset])\n",
    "Y = np.array([[example[1]] for example in dataset])\n",
    "\n",
    "# 使用蓝色绘制X,Y的散点图\n",
    "plt.________\n",
    "plt.show()"
   ]
  },
  {
   "cell_type": "code",
   "execution_count": 24,
   "metadata": {},
   "outputs": [
    {
     "name": "stdout",
     "output_type": "stream",
     "text": [
      "均方差: 14.394185214981674\n",
      "线性方程: 2.0577455975686063*x + 8.264548136229553\n"
     ]
    }
   ],
   "source": [
    "# 使用sklearn中的linear_model，建立训练模型\n",
    "model = __________\n",
    "\n",
    "# 使用样本数据(X, Y)训练模型\n",
    "model.___________\n",
    "\n",
    "# 根据训练获得的模型生成预测数据\n",
    "Y_prime = _______\n",
    "\n",
    "# 计算均方差 (答案等于14.394)\n",
    "mse = ________________\n",
    "print(\"均方差: {}\".format(mse))\n",
    "\n",
    "# 打印模型\n",
    "print(\"线性方程: {}*x + {}\".format(model.coef_[0][0], model.intercept_[0]))"
   ]
  },
  {
   "cell_type": "code",
   "execution_count": 22,
   "metadata": {
    "scrolled": true
   },
   "outputs": [
    {
     "data": {
      "image/png": "[encoded data removed]",
      "text/plain": [
       "<matplotlib.figure.Figure at 0x112558240>"
      ]
     },
     "metadata": {},
     "output_type": "display_data"
    }
   ],
   "source": [
    "# 使用散点图绘制数据(蓝色)，以及训练获取得到的模型(紫色)\n",
    "plt.scatter(__________)\n",
    "plt.plot(___________)\n",
    "plt.show()"
   ]
  },
  {
   "cell_type": "markdown",
   "metadata": {},
   "source": [
    "# 练习2 (波士顿房价)\n",
    "波士顿房价的数据在sklearn中提供，使用线性回归构建模型，具体步骤/要求参见下面的代码块。\n",
    "\n",
    "说明：模型为$Y=\\sum_{i=1}^{13}\\omega_i x_i + b$，其中$x_i$为数据中的一个特征(总共有13个)。这是一个多变量的线性回归，在使用sklearn的方法上与单变量一致。"
   ]
  },
  {
   "cell_type": "code",
   "execution_count": 32,
   "metadata": {},
   "outputs": [],
   "source": [
    "import numpy as np\n",
    "import pandas as pd\n",
    "import sklearn\n",
    "import matplotlib.pyplot as plt\n",
    "from sklearn.datasets import load_boston\n",
    "\n",
    "# 加载数据\n",
    "boston = load_boston()"
   ]
  },
  {
   "cell_type": "markdown",
   "metadata": {},
   "source": [
    "**要求**：请通过`print`方法探索`boston`对象中的数据:\n",
    "```\n",
    "print(boston.keys())\n",
    "print(boston.data.shape)\n",
    "print(boston.feature_names)\n",
    "print(boston.DESCR)\n",
    "print(boston.data)\n",
    "```"
   ]
  },
  {
   "cell_type": "code",
   "execution_count": 1,
   "metadata": {},
   "outputs": [],
   "source": [
    "# 使用上述print语句探索数据"
   ]
  },
  {
   "cell_type": "markdown",
   "metadata": {},
   "source": [
    "**要求**：请使用pandas库，\n",
    "1. 为数据`boston.data`创建一个`pandas.DataFrame`对象，变量名称为`df`；\n",
    "2. 为DataFrame对象赋于列名(boston.feature_names);\n",
    "3. 增加一列数据，列名为`PRICE`,数据存储在`boston.target`中；\n"
   ]
  },
  {
   "cell_type": "code",
   "execution_count": 33,
   "metadata": {},
   "outputs": [
    {
     "ename": "NameError",
     "evalue": "name '__________' is not defined",
     "output_type": "error",
     "traceback": [
      "\u001b[0;31m---------------------------------------------------------------------------\u001b[0m",
      "\u001b[0;31mNameError\u001b[0m                                 Traceback (most recent call last)",
      "\u001b[0;32m<ipython-input-33-da6bbdb22e38>\u001b[0m in \u001b[0;36m<module>\u001b[0;34m()\u001b[0m\n\u001b[1;32m      2\u001b[0m \u001b[0;34m\u001b[0m\u001b[0m\n\u001b[1;32m      3\u001b[0m \u001b[0;31m# 创建DataFrame对象\u001b[0m\u001b[0;34m\u001b[0m\u001b[0;34m\u001b[0m\u001b[0m\n\u001b[0;32m----> 4\u001b[0;31m \u001b[0mdf\u001b[0m \u001b[0;34m=\u001b[0m \u001b[0m__________\u001b[0m\u001b[0;34m\u001b[0m\u001b[0m\n\u001b[0m\u001b[1;32m      5\u001b[0m \u001b[0;34m\u001b[0m\u001b[0m\n\u001b[1;32m      6\u001b[0m \u001b[0;31m# 为df赋值列名 (具体效果见讲义截图)\u001b[0m\u001b[0;34m\u001b[0m\u001b[0;34m\u001b[0m\u001b[0m\n",
      "\u001b[0;31mNameError\u001b[0m: name '__________' is not defined"
     ]
    }
   ],
   "source": [
    "import pandas as pd\n",
    "\n",
    "# 创建DataFrame对象\n",
    "df = __________\n",
    "\n",
    "# 为df赋值列名 (具体效果见讲义截图)\n",
    "_______\n",
    "\n",
    "# 为df增加'PRICE'列 (具体效果见讲义截图)\n"
   ]
  },
  {
   "cell_type": "markdown",
   "metadata": {},
   "source": [
    "**要求**: 使用`sklearn`中的`linear_model.LinearRegression`对数据进行线性回归，请补充以下代码块中缺失的代码(标记为_____)："
   ]
  },
  {
   "cell_type": "code",
   "execution_count": 52,
   "metadata": {},
   "outputs": [
    {
     "ename": "NameError",
     "evalue": "name '______' is not defined",
     "output_type": "error",
     "traceback": [
      "\u001b[0;31m---------------------------------------------------------------------------\u001b[0m",
      "\u001b[0;31mNameError\u001b[0m                                 Traceback (most recent call last)",
      "\u001b[0;32m<ipython-input-52-e2ab3be26a87>\u001b[0m in \u001b[0;36m<module>\u001b[0;34m()\u001b[0m\n\u001b[1;32m      1\u001b[0m \u001b[0;32mfrom\u001b[0m \u001b[0msklearn\u001b[0m \u001b[0;32mimport\u001b[0m \u001b[0mlinear_model\u001b[0m\u001b[0;34m\u001b[0m\u001b[0m\n\u001b[1;32m      2\u001b[0m \u001b[0;34m\u001b[0m\u001b[0m\n\u001b[0;32m----> 3\u001b[0;31m \u001b[0mmodel\u001b[0m \u001b[0;34m=\u001b[0m \u001b[0m______\u001b[0m\u001b[0;34m\u001b[0m\u001b[0m\n\u001b[0m\u001b[1;32m      4\u001b[0m \u001b[0;34m\u001b[0m\u001b[0m\n\u001b[1;32m      5\u001b[0m \u001b[0;31m# 构建样本数据(X, Y)\u001b[0m\u001b[0;34m\u001b[0m\u001b[0;34m\u001b[0m\u001b[0m\n",
      "\u001b[0;31mNameError\u001b[0m: name '______' is not defined"
     ]
    }
   ],
   "source": [
    "from sklearn import linear_model\n",
    "\n",
    "model = ______\n",
    "\n",
    "# 构建样本数据(X, Y)\n",
    "X = df.drop('PRICE', axis=1)\n",
    "Y = ______\n",
    "\n",
    "# 使用样本数据(X, Y)训练模型\n",
    "____\n",
    "\n",
    "# 使用数据X获取预测数据Y_prime\n",
    "Y_prime = _____\n",
    "\n",
    "\n",
    "# 计算均方差 (正确值为21.89777)\n",
    "mse = _______\n",
    "print(mse)"
   ]
  },
  {
   "cell_type": "code",
   "execution_count": 41,
   "metadata": {},
   "outputs": [
    {
     "data": {
      "image/png": "[encoded data removed]",
      "text/plain": [
       "<matplotlib.figure.Figure at 0x109f84470>"
      ]
     },
     "metadata": {},
     "output_type": "display_data"
    }
   ],
   "source": [
    "swimming_pool = [\n",
    "    [22, 494],\n",
    "    [25, 582],\n",
    "    [18, 389],\n",
    "    [9, 204],\n",
    "]\n",
    "\n",
    "# X和Y均是二维数组 (n_samples, n_features), n_samples是样本数量\n",
    "# n_features是特征数量，在本例子中特征数量为1，也即阅读速度\n",
    "X = np.array([[example[0]] for example in swimming_pool])\n",
    "Y = np.array([[example[1]] for example in swimming_pool])\n",
    "\n",
    "# 使用蓝色绘制X,Y的散点图\n",
    "plt.scatter(X, Y, color='blue')\n",
    "plt.xlabel('Person')\n",
    "plt.ylabel('Sweeteners')\n",
    "plt.show()"
   ]
  },
  {
   "cell_type": "code",
   "execution_count": 46,
   "metadata": {},
   "outputs": [
    {
     "data": {
      "image/png": "[encoded data removed]",
      "text/plain": [
       "<matplotlib.figure.Figure at 0x10a02a3c8>"
      ]
     },
     "metadata": {},
     "output_type": "display_data"
    }
   ],
   "source": [
    "from sklearn import linear_model\n",
    "\n",
    "model = linear_model.LinearRegression()\n",
    "model.fit(X, Y)\n",
    "Y_prime = model.predict(X)\n",
    "\n",
    "plt.scatter(X, Y, color='blue')\n",
    "plt.plot(X, Y_prime, color='red')\n",
    "plt.xlabel('Person')\n",
    "plt.ylabel('Sweeteners')\n",
    "plt.show()\n"
   ]
  },
  {
   "cell_type": "code",
   "execution_count": 49,
   "metadata": {},
   "outputs": [
    {
     "name": "stdout",
     "output_type": "stream",
     "text": [
      "135.27327586206937\n",
      "线性方程: 23.306896551724137*x + -13.927586206896535\n"
     ]
    }
   ],
   "source": [
    "# 计算y_prime与y_train之间的误差\n",
    "Y_prime = model.predict(X)\n",
    "mse = np.mean((Y_prime-Y)**2)\n",
    "print(mse)\n",
    "\n",
    "print(\"线性方程: {}*x + {}\".format(model.coef_[0][0], \\\n",
    "                               model.intercept_[0]))"
   ]
  },
  {
   "cell_type": "markdown",
   "metadata": {},
   "source": [
    "# 参考\n",
    "[1] scikit-learn linear regression: http://scikit-learn.org/stable/modules/generated/sklearn.linear_model.LinearRegression.html\n",
    "\n",
    "[2] how to run linear regression: http://bigdata-madesimple.com/how-to-run-linear-regression-in-python-scikit-learn/"
   ]
  },
  {
   "cell_type": "code",
   "execution_count": null,
   "metadata": {},
   "outputs": [],
   "source": []
  }
 ],
 "metadata": {
  "kernelspec": {
   "display_name": "Python 3",
   "language": "python",
   "name": "python3"
  },
  "language_info": {
   "codemirror_mode": {
    "name": "ipython",
    "version": 3
   },
   "file_extension": ".py",
   "mimetype": "text/x-python",
   "name": "python",
   "nbconvert_exporter": "python",
   "pygments_lexer": "ipython3",
   "version": "3.6.4"
  }
 },
 "nbformat": 4,
 "nbformat_minor": 2
}
