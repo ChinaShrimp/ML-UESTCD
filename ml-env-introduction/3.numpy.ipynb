{
 "cells": [
  {
   "cell_type": "markdown",
   "metadata": {},
   "source": [
    "BMI指数（即身体质量指数，简称体质指数又称体重，英文为Body Mass Index，简称BMI），是用体重公斤数除以身高米数平方得出的数字，是目前国际上常用的衡量人体胖瘦程度以及是否健康的一个标准。"
   ]
  },
  {
   "cell_type": "code",
   "execution_count": 1,
   "metadata": {},
   "outputs": [
    {
     "ename": "TypeError",
     "evalue": "unsupported operand type(s) for ** or pow(): 'list' and 'int'",
     "output_type": "error",
     "traceback": [
      "\u001b[0;31m---------------------------------------------------------------------------\u001b[0m",
      "\u001b[0;31mTypeError\u001b[0m                                 Traceback (most recent call last)",
      "\u001b[0;32m<ipython-input-1-9931efcce35d>\u001b[0m in \u001b[0;36m<module>\u001b[0;34m()\u001b[0m\n\u001b[1;32m      3\u001b[0m \u001b[0mweight\u001b[0m \u001b[0;34m=\u001b[0m \u001b[0;34m[\u001b[0m\u001b[0;36m6\u001b[0m\u001b[0;34m,\u001b[0m \u001b[0;36m7\u001b[0m\u001b[0;34m,\u001b[0m \u001b[0;36m8\u001b[0m\u001b[0;34m,\u001b[0m \u001b[0;36m9\u001b[0m\u001b[0;34m,\u001b[0m \u001b[0;36m10\u001b[0m\u001b[0;34m]\u001b[0m\u001b[0;34m\u001b[0m\u001b[0m\n\u001b[1;32m      4\u001b[0m \u001b[0;34m\u001b[0m\u001b[0m\n\u001b[0;32m----> 5\u001b[0;31m \u001b[0mprint\u001b[0m\u001b[0;34m(\u001b[0m\u001b[0mheight\u001b[0m\u001b[0;34m/\u001b[0m\u001b[0mweight\u001b[0m\u001b[0;34m**\u001b[0m\u001b[0;36m2\u001b[0m\u001b[0;34m)\u001b[0m\u001b[0;34m\u001b[0m\u001b[0m\n\u001b[0m",
      "\u001b[0;31mTypeError\u001b[0m: unsupported operand type(s) for ** or pow(): 'list' and 'int'"
     ]
    }
   ],
   "source": [
    "height = [1, 2, 3, 4, 5]\n",
    "\n",
    "weight = [6, 7, 8, 9, 10]\n",
    "\n",
    "print(height/weight**2)"
   ]
  },
  {
   "cell_type": "markdown",
   "metadata": {},
   "source": [
    "List的挑战：\n",
    "- 运算\n",
    "- 速度\n",
    "\n",
    "所有有了Numpy(Numeric Python)存在的理由。"
   ]
  },
  {
   "cell_type": "code",
   "execution_count": 5,
   "metadata": {},
   "outputs": [
    {
     "name": "stdout",
     "output_type": "stream",
     "text": [
      "[0.02777778 0.04081633 0.046875   0.04938272 0.05      ]\n",
      "<class 'numpy.ndarray'>\n",
      "[ 7  9 11 13 15]\n",
      "[ 2  4  6  8 10]\n"
     ]
    }
   ],
   "source": [
    "import numpy as np\n",
    "\n",
    "np_height = np.array([1, 2, 3, 4, 5])\n",
    "np_weight = np.array([6, 7, 8, 9, 10])\n",
    "\n",
    "bmi = np_height/np_weight ** 2\n",
    "\n",
    "print(bmi)\n",
    "print(type(bmi))\n",
    "\n",
    "print(np_height + np_weight)\n",
    "\n",
    "print(2*np_height)"
   ]
  },
  {
   "cell_type": "code",
   "execution_count": 7,
   "metadata": {},
   "outputs": [],
   "source": [
    "# 均值描述的是集中趋势，而方差反映的是离散程度\n",
    "import numpy as np\n",
    "\n",
    "x = np.array([0, 8, 12, 20])\n",
    "y = np.array([8, 9, 11, 12])"
   ]
  },
  {
   "cell_type": "code",
   "execution_count": 9,
   "metadata": {},
   "outputs": [
    {
     "name": "stdout",
     "output_type": "stream",
     "text": [
      "[ 0  8 12 20]\n",
      "10.0\n",
      "[-10.  -2.   2.  10.]\n",
      "[100.   4.   4. 100.]\n",
      "[ 8  9 11 12]\n",
      "10.0\n",
      "[-2. -1.  1.  2.]\n",
      "[4. 1. 1. 4.]\n",
      "variance: 52.0 2.5\n"
     ]
    }
   ],
   "source": [
    "def variance(data):\n",
    "    differences = data - np.mean(data)\n",
    "    diff_sq = np.square(differences)\n",
    "    variance = np.mean(diff_sq)\n",
    "    return variance\n",
    "\n",
    "def std(data):\n",
    "    return np.sqrt(variance(data))\n",
    "    \n",
    "#print('mean:', np.mean(x), np.mean(y))\n",
    "print('variance:', variance(x), variance(y))\n",
    "#print('std:', std(x), std(y))"
   ]
  },
  {
   "cell_type": "code",
   "execution_count": null,
   "metadata": {},
   "outputs": [],
   "source": []
  }
 ],
 "metadata": {
  "kernelspec": {
   "display_name": "Python 3",
   "language": "python",
   "name": "python3"
  },
  "language_info": {
   "codemirror_mode": {
    "name": "ipython",
    "version": 3
   },
   "file_extension": ".py",
   "mimetype": "text/x-python",
   "name": "python",
   "nbconvert_exporter": "python",
   "pygments_lexer": "ipython3",
   "version": "3.6.4"
  }
 },
 "nbformat": 4,
 "nbformat_minor": 2
}
