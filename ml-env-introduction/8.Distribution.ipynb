{
 "cells": [
  {
   "cell_type": "markdown",
   "metadata": {},
   "source": [
    "# 百分等级(Percentile Rank)\n",
    "- 标准化考试成绩\n",
    "    - 原始分数 (Score)\n",
    "    - 百分等级 (percentile rank)\n",
    "        - Percentage (比例) = (原始成绩<你的成绩)中人数所占的比例\n",
    "        - Percentile rank = Percentage * 100\n",
    "- 90百分位数：比90%的人成绩好\n",
    "\n",
    "# 累积分布函数(Cumulative Distribution Function)\n",
    "- 累积分布函数 (CDF)\n",
    "- 值到其在分布中百分等级的映射\n",
    "- CDF(x)\n",
    "    - x是分布中的某个值\n",
    "    - CDF(X)样本中小于等于x的值的比例\n",
    "\n",
    "# ECDF\n",
    "ECDF: Empirical CDF\n",
    "- 基于经验观察\n",
    "- 样本数量有限\n"
   ]
  },
  {
   "cell_type": "code",
   "execution_count": 4,
   "metadata": {},
   "outputs": [],
   "source": [
    "import numpy as np\n",
    "\n",
    "def ecdf(data):\n",
    "    x = np.sort(data)\n",
    "    n = len(x)\n",
    "    y = np.arange(1, n+1)/n\n",
    "    \n",
    "    return x, y\n"
   ]
  },
  {
   "cell_type": "code",
   "execution_count": 5,
   "metadata": {},
   "outputs": [
    {
     "data": {
      "text/html": [
       "<div>\n",
       "<style scoped>\n",
       "    .dataframe tbody tr th:only-of-type {\n",
       "        vertical-align: middle;\n",
       "    }\n",
       "\n",
       "    .dataframe tbody tr th {\n",
       "        vertical-align: top;\n",
       "    }\n",
       "\n",
       "    .dataframe thead th {\n",
       "        text-align: right;\n",
       "    }\n",
       "</style>\n",
       "<table border=\"1\" class=\"dataframe\">\n",
       "  <thead>\n",
       "    <tr style=\"text-align: right;\">\n",
       "      <th></th>\n",
       "      <th>sepal_length</th>\n",
       "      <th>sepal_width</th>\n",
       "      <th>petal_length</th>\n",
       "      <th>petal_width</th>\n",
       "      <th>species</th>\n",
       "    </tr>\n",
       "  </thead>\n",
       "  <tbody>\n",
       "    <tr>\n",
       "      <th>100</th>\n",
       "      <td>6.3</td>\n",
       "      <td>3.3</td>\n",
       "      <td>6.0</td>\n",
       "      <td>2.5</td>\n",
       "      <td>virginica</td>\n",
       "    </tr>\n",
       "    <tr>\n",
       "      <th>101</th>\n",
       "      <td>5.8</td>\n",
       "      <td>2.7</td>\n",
       "      <td>5.1</td>\n",
       "      <td>1.9</td>\n",
       "      <td>virginica</td>\n",
       "    </tr>\n",
       "    <tr>\n",
       "      <th>102</th>\n",
       "      <td>7.1</td>\n",
       "      <td>3.0</td>\n",
       "      <td>5.9</td>\n",
       "      <td>2.1</td>\n",
       "      <td>virginica</td>\n",
       "    </tr>\n",
       "    <tr>\n",
       "      <th>103</th>\n",
       "      <td>6.3</td>\n",
       "      <td>2.9</td>\n",
       "      <td>5.6</td>\n",
       "      <td>1.8</td>\n",
       "      <td>virginica</td>\n",
       "    </tr>\n",
       "    <tr>\n",
       "      <th>104</th>\n",
       "      <td>6.5</td>\n",
       "      <td>3.0</td>\n",
       "      <td>5.8</td>\n",
       "      <td>2.2</td>\n",
       "      <td>virginica</td>\n",
       "    </tr>\n",
       "  </tbody>\n",
       "</table>\n",
       "</div>"
      ],
      "text/plain": [
       "     sepal_length  sepal_width  petal_length  petal_width    species\n",
       "100           6.3          3.3           6.0          2.5  virginica\n",
       "101           5.8          2.7           5.1          1.9  virginica\n",
       "102           7.1          3.0           5.9          2.1  virginica\n",
       "103           6.3          2.9           5.6          1.8  virginica\n",
       "104           6.5          3.0           5.8          2.2  virginica"
      ]
     },
     "execution_count": 5,
     "metadata": {},
     "output_type": "execute_result"
    }
   ],
   "source": [
    "import pandas as pd\n",
    "import matplotlib.pyplot as plt\n",
    "import seaborn as sns\n",
    "\n",
    "sns.set()\n",
    "\n",
    "# 读取数据\n",
    "df = pd.read_csv('../data/iris.csv')\n",
    "\n",
    "# 获取virginica类别的数据\n",
    "virginica = df.loc[df['species'] == 'virginica']\n",
    "\n",
    "virginica.head()"
   ]
  },
  {
   "cell_type": "code",
   "execution_count": 8,
   "metadata": {},
   "outputs": [
    {
     "data": {
      "image/png": "[encoded data removed]",
      "text/plain": [
       "<matplotlib.figure.Figure at 0x114518048>"
      ]
     },
     "metadata": {},
     "output_type": "display_data"
    }
   ],
   "source": [
    "x, y = ecdf(virginica['petal_length'])\n",
    "\n",
    "_ = plt.plot(x, y, marker='.', linestyle='none')\n",
    "_ = plt.xlabel('petal length(cm)')\n",
    "_ = plt.ylabel('ECDF')\n",
    "plt.show()"
   ]
  },
  {
   "cell_type": "code",
   "execution_count": 9,
   "metadata": {},
   "outputs": [
    {
     "name": "stdout",
     "output_type": "stream",
     "text": [
      "virginica sepal length mean: 5.5520000000000005\n"
     ]
    }
   ],
   "source": [
    "print('virginica sepal length mean:', np.mean(virginica['petal_length']))"
   ]
  },
  {
   "cell_type": "markdown",
   "metadata": {},
   "source": [
    "# 问题\n",
    "如果再测量50组数据，花瓣长度均值还会是5.552吗？"
   ]
  },
  {
   "cell_type": "markdown",
   "metadata": {},
   "source": [
    "# Hacker Statistics\n",
    "- Python\n",
    "- 仿真数据\n",
    "\n",
    "# 贝努利试验\n",
    "实验结果只有两种情况：True/False\n"
   ]
  },
  {
   "cell_type": "code",
   "execution_count": 10,
   "metadata": {},
   "outputs": [
    {
     "name": "stdout",
     "output_type": "stream",
     "text": [
      "[0.37454012 0.95071431 0.73199394 0.59865848]\n"
     ]
    }
   ],
   "source": [
    "import numpy as np\n",
    "\n",
    "np.random.seed(42)\n",
    "\n",
    "# 模拟四次抛硬币试验\n",
    "random_numbers = np.random.random(size=4)\n",
    "print(random_numbers)"
   ]
  },
  {
   "cell_type": "code",
   "execution_count": 11,
   "metadata": {},
   "outputs": [
    {
     "name": "stdout",
     "output_type": "stream",
     "text": [
      "[ True False False False]\n",
      "正面次数： 1\n"
     ]
    }
   ],
   "source": [
    "# 统计头像朝上的次数\n",
    "heads = random_numbers < 0.5\n",
    "print(heads)\n",
    "print('正面次数：', np.sum(heads))"
   ]
  },
  {
   "cell_type": "markdown",
   "metadata": {},
   "source": [
    "重复进行10000次贝努利试验，每次试验抛4次硬币，出现4次头像朝上的概率？"
   ]
  },
  {
   "cell_type": "code",
   "execution_count": 12,
   "metadata": {},
   "outputs": [
    {
     "name": "stdout",
     "output_type": "stream",
     "text": [
      "四次头像朝上的概率: 0.0619\n"
     ]
    }
   ],
   "source": [
    "n_all_heads = 0\n",
    "\n",
    "for _ in range(10000):\n",
    "    random_numbers = np.random.random(size=4)\n",
    "    heads = random_numbers < 0.5\n",
    "    if np.sum(heads) == 4:\n",
    "        n_all_heads += 1\n",
    "        \n",
    "print('四次头像朝上的概率:', n_all_heads/10000)"
   ]
  },
  {
   "cell_type": "markdown",
   "metadata": {},
   "source": [
    "# 练习1\n",
    "完成函数`perform_bernoulli_trials`，其原型如下：\n",
    "```\n",
    "def perform_bernoulli_trials(n, p):\n",
    "    \"\"\" \n",
    "    输入：执行n次Bernoulli试验，每次成功的概率为p\n",
    "    返回值：成功次数\n",
    "    \"\"\"\n",
    "```\n",
    "\n",
    "参考上面抛硬币的例子，在上述抛硬币例子中n=10000, p=0.5而已。"
   ]
  },
  {
   "cell_type": "code",
   "execution_count": 29,
   "metadata": {},
   "outputs": [],
   "source": [
    "def perform_bernoulli_trials(n, p):\n",
    "    \"\"\"\n",
    "    输入：执行n次Bernoulli试验，每次成功的概率为p\n",
    "    返回值：成功次数\n",
    "    \"\"\"\n",
    "    n_success = 0\n",
    "    \n",
    "    # 补充你的代码.....\n",
    "            \n",
    "    return n_success"
   ]
  },
  {
   "cell_type": "markdown",
   "metadata": {},
   "source": [
    "# 抵押贷款\n",
    "银行有100个抵押贷款的案例，贷款违约的概率为p=0.05(5%)。在这个例子中其满足Bernoulli试验的特性：\n",
    "1. 事件独立；\n",
    "2. 结果只有两种：违约(default)和不违约；\n",
    "\n",
    "于是我们可以使用上面完成的函数`perform_bernoulli_trials`来模拟(假设违约为True)，重复该仿真1000次，通过绘制概率质量函数，我们就可以清楚得知违约的概率。"
   ]
  },
  {
   "cell_type": "code",
   "execution_count": 23,
   "metadata": {},
   "outputs": [
    {
     "data": {
      "image/png": "[encoded data removed]",
      "text/plain": [
       "<matplotlib.figure.Figure at 0x114f6c710>"
      ]
     },
     "metadata": {},
     "output_type": "display_data"
    }
   ],
   "source": [
    "import numpy as np\n",
    "\n",
    "# Seed random number generator\n",
    "np.random.seed(42)\n",
    "\n",
    "# Initialize the number of defaults: n_defaults\n",
    "n_defaults = np.empty(1000)\n",
    "\n",
    "# Compute the number of defaults\n",
    "for i in range(1000):\n",
    "    n_defaults[i] = perform_bernoulli_trials(100, 0.05)\n",
    "\n",
    "# Plot the histogram with default number of bins; label your axes\n",
    "_ = plt.hist(n_defaults, normed=True)\n",
    "_ = plt.xlabel('number of defaults out of 100 loans')\n",
    "_ = plt.ylabel('probability')\n",
    "\n",
    "# Show the plot\n",
    "plt.show()\n"
   ]
  },
  {
   "cell_type": "markdown",
   "metadata": {},
   "source": [
    "# 练习2\n",
    "假设根据银行的精算师计算，如果违约人数超过10人的话，银行就有亏损。那么请基于上面的`抵押贷款`案例中`n_defaults`数据，\n",
    "1. 计算银行亏钱的概率？\n",
    "2. 绘制随机变量`n_defaults`的ECDF图。\n",
    "\n",
    "提示：\n",
    "1. 计算n_defaults大于10的事件数量；\n",
    "2. 调用上节课完成的`ecdf`函数，得到`n_defaults`对应的x/y数据，使用plot函数绘制；"
   ]
  },
  {
   "cell_type": "code",
   "execution_count": null,
   "metadata": {},
   "outputs": [],
   "source": [
    "# 练习2"
   ]
  },
  {
   "cell_type": "markdown",
   "metadata": {},
   "source": [
    "# 二项分布 (Binomial Distribution)\n",
    "**二项分布**就是重复n次独立的伯努利试验。在每次试验中只有两种可能的结果，而且两种结果发生与否互相对立，并且相互独立，与其它各次试验结果无关，事件发生与否的概率在每一次独立试验中都保持不变，则这一系列试验总称为n重伯努利实验，当试验次数为1时，二项分布服从0-1分布。\n",
    "\n",
    "`numpy`也提供了`np.random.binomial`函数用于生成二项分布的样本数据。"
   ]
  },
  {
   "cell_type": "code",
   "execution_count": 25,
   "metadata": {},
   "outputs": [
    {
     "name": "stdout",
     "output_type": "stream",
     "text": [
      "10000\n"
     ]
    }
   ],
   "source": [
    "import numpy as np\n",
    "\n",
    "# n=60, p=0.1, 重复收集10000次数据\n",
    "samples = np.random.binomial(60, 0.1, size=10000)"
   ]
  },
  {
   "cell_type": "markdown",
   "metadata": {},
   "source": [
    "# 练习3\n",
    "绘制上面例子中`samples`数据的ECDF和PMF图。\n",
    "\n",
    "提示：绘制PMF时，采用**bin edges**的方式，例如:\n",
    "```\n",
    "bins = np.arange(0, max(n_defaults) + 1.5) - 0.5\n",
    "_ = plt.hist(..., bins=bins, ...)\n",
    "```\n"
   ]
  },
  {
   "cell_type": "code",
   "execution_count": null,
   "metadata": {},
   "outputs": [],
   "source": [
    "# 练习3"
   ]
  },
  {
   "cell_type": "markdown",
   "metadata": {},
   "source": [
    "# 泊松分布\n",
    "泊松分布就是描述某段时间内，事件具体的发生概率。\n",
    "\n",
    "$$P(N(t) = n) = \\frac{(\\lambda t)^n e^{-\\lambda t}}{n!}$$\n",
    "P 表示概率，N表示某种函数关系，t 表示时间，n 表示数量，1小时内出生3个婴儿的概率，就表示为 P(N(1) = 3) 。等号的右边，λ 表示事件的频率。\n",
    "\n",
    "泊松分布是二项分布的一个特例。\n"
   ]
  },
  {
   "cell_type": "code",
   "execution_count": 28,
   "metadata": {},
   "outputs": [
    {
     "name": "stdout",
     "output_type": "stream",
     "text": [
      "Poisson:      10.011 3.1676930091156246\n",
      "n = 20 Binom: 10.0248 2.25742883830255\n",
      "n = 100 Binom: 10.0437 2.990917971125253\n",
      "n = 1000 Binom: 9.9928 3.149499668201284\n"
     ]
    }
   ],
   "source": [
    "# 获取10000个泊松分布的样本数据\n",
    "samples_poisson = np.random.poisson(10, 10000)\n",
    "\n",
    "# Print the mean and standard deviation\n",
    "print('Poisson:     ', np.mean(samples_poisson),\n",
    "                       np.std(samples_poisson))\n",
    "\n",
    "# 指定二项分布的参数: n,p. np=10，也即和上述泊松分布的平均值相同\n",
    "n = [20, 100, 1000]\n",
    "p = [0.5, 0.1, 0.01]\n",
    "\n",
    "# 对于n[]和p[]中每一对数据，进行10000个Bernoulli试验的数据\n",
    "for i in range(3):\n",
    "    samples_binomial = np.random.binomial(n[i], p[i],size=10000)\n",
    "\n",
    "    # Print results\n",
    "    print('n =', n[i], 'Binom:', np.mean(samples_binomial),\n",
    "                                 np.std(samples_binomial))"
   ]
  },
  {
   "cell_type": "markdown",
   "metadata": {},
   "source": [
    "# 练习4\n",
    "美国职业棒球联赛中1990年和2015年是无安打(no-hitter)记录最多的赛季(7次)，假定平均每个赛季无安打平均次数为251/115，请问在一个赛季中超过7次无安打的概率是多少？\n",
    "\n",
    "提示：\n",
    "1. 利用`np.random.poisson()`产生泊松分布的数据；\n",
    "2. 计算获取数据中值大于7的事件数量，并计算概率；"
   ]
  },
  {
   "cell_type": "markdown",
   "metadata": {},
   "source": [
    "# 正态分布(Normal Distribution)"
   ]
  },
  {
   "cell_type": "code",
   "execution_count": 2,
   "metadata": {},
   "outputs": [
    {
     "data": {
      "image/png": "[encoded data removed]",
      "text/plain": [
       "<matplotlib.figure.Figure at 0x113d556a0>"
      ]
     },
     "metadata": {},
     "output_type": "display_data"
    }
   ],
   "source": [
    "import matplotlib.pyplot as plt\n",
    "import numpy as np\n",
    "from scipy import stats\n",
    "import seaborn as sns\n",
    "\n",
    "mu_params = [-1, 0, 1]\n",
    "sd_params = [0.5, 1, 1.5]\n",
    "x = np.linspace(-7, 7, 100)\n",
    "f, ax = plt.subplots(len(mu_params), len(sd_params), sharex=True, sharey=True)\n",
    "for i in range(3):\n",
    "    for j in range(3):\n",
    "        mu = mu_params[i]\n",
    "        sd = sd_params[j]\n",
    "        y = stats.norm(mu, sd).pdf(x)\n",
    "        ax[i,j].plot(x, y)\n",
    "        ax[i,j].plot(0, 0, \n",
    "        label=\"$\\\\mu$ = {:3.2f}\\n$\\\\sigma$ = {:3.2f}\".format (mu, sd), alpha=0)\n",
    "        ax[i,j].legend(fontsize=12)\n",
    "ax[2,1].set_xlabel('$x$', fontsize=16)\n",
    "ax[1,0].set_ylabel('$pdf(x)$', fontsize=16)\n",
    "plt.tight_layout()"
   ]
  },
  {
   "cell_type": "code",
   "execution_count": null,
   "metadata": {},
   "outputs": [],
   "source": []
  }
 ],
 "metadata": {
  "kernelspec": {
   "display_name": "Python 3",
   "language": "python",
   "name": "python3"
  },
  "language_info": {
   "codemirror_mode": {
    "name": "ipython",
    "version": 3
   },
   "file_extension": ".py",
   "mimetype": "text/x-python",
   "name": "python",
   "nbconvert_exporter": "python",
   "pygments_lexer": "ipython3",
   "version": "3.6.4"
  }
 },
 "nbformat": 4,
 "nbformat_minor": 2
}
